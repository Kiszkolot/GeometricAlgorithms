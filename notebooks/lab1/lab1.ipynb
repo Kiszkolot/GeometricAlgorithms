{
 "cells": [
  {
   "cell_type": "markdown",
   "source": [
    "# Laboratorium 1\n"
   ],
   "metadata": {
    "collapsed": false
   }
  },
  {
   "cell_type": "markdown",
   "source": [
    "### Konfiguracja"
   ],
   "metadata": {
    "collapsed": false
   }
  },
  {
   "cell_type": "code",
   "execution_count": 148,
   "outputs": [],
   "source": [
    "%matplotlib inline\n",
    "import random\n",
    "import numpy as np\n",
    "import matplotlib.pyplot as plt\n",
    "import matplotlib.collections as mcoll\n",
    "import matplotlib.colors as mcolors\n",
    "import json as js"
   ],
   "metadata": {
    "collapsed": false,
    "pycharm": {
     "name": "#%%\n",
     "is_executing": false
    }
   }
  },
  {
   "cell_type": "markdown",
   "source": [
    "### Interfejsy\n",
    "\n",
    "[Dostępne kolory](https://matplotlib.org/3.1.1/gallery/color/named_colors.html)\n",
    "%matplotlib inline\n",
    "[Dostępne znaczniki punktów](https://matplotlib.org/3.1.1/api/markers_api.html#module-matplotlib.markers)"
   ],
   "metadata": {
    "collapsed": false
   }
  },
  {
   "cell_type": "code",
   "execution_count": 149,
   "outputs": [],
   "source": [
    "class PointsCollection:\n",
    "    def __init__(self, points = [], color = None, marker = None):\n",
    "        self.points = np.array(points)\n",
    "        self.color = color\n",
    "        self.marker = marker\n",
    "        \n",
    "class LinesCollection:\n",
    "    def __init__(self, lines = [], color = None):\n",
    "        self.color = color\n",
    "        self.lines = lines\n",
    "        \n",
    "    def add(self, line):\n",
    "        self.lines.append(line)\n",
    "        \n",
    "    def get_collection(self):\n",
    "        if self.color:\n",
    "            return mcoll.LineCollection(self.lines, [mcolors.to_rgba(self.color)] * len(self.lines))\n",
    "        else:\n",
    "            return mcoll.LineCollection(self.lines)\n",
    "\n",
    "class Plot:\n",
    "    def __init__(self, points=[], lines=[], json = None):\n",
    "        if json is None:\n",
    "            self.points = points\n",
    "            self.lines = lines\n",
    "        else:\n",
    "            self.points = [PointsCollection(pointsCol) for pointsCol in js.loads(json)[\"points\"]]\n",
    "            self.lines = [LinesCollection(linesCol) for linesCol in js.loads(json)[\"lines\"]]\n",
    "            \n",
    "    def draw(self):\n",
    "        plt.close()\n",
    "        ax = plt.axes()\n",
    "        for collection in self.points:\n",
    "            if collection.points.size > 0:\n",
    "                ax.scatter(*zip(*collection.points), c=collection.color, marker=collection.marker)\n",
    "        for collection in self.lines:\n",
    "            ax.add_collection(collection.get_collection())\n",
    "        ax.autoscale()\n",
    "        plt.draw()\n",
    "        \n",
    "    def toJSON(self):\n",
    "        return js.dumps({\"points\": [pointCol.points.tolist() for pointCol in self.points], \n",
    "                          \"lines\":[linesCol.lines for linesCol in self.lines]})"
   ],
   "metadata": {
    "collapsed": false,
    "pycharm": {
     "name": "#%%\n",
     "is_executing": false
    }
   }
  },
  {
   "cell_type": "markdown",
   "source": [
    "### Przykład użycia"
   ],
   "metadata": {
    "collapsed": false
   }
  },
  {
   "cell_type": "code",
   "execution_count": 150,
   "outputs": [
    {
     "data": {
      "text/plain": "<Figure size 432x288 with 1 Axes>",
      "image/png": "[encoded data removed]"
     },
     "metadata": {
      "needs_background": "light"
     },
     "output_type": "display_data"
    }
   ],
   "source": [
    "%matplotlib inline\n",
    "\n",
    "plot = Plot([PointsCollection([(1, 2), (3, 1.5), (2, -1)]), \n",
    "             PointsCollection([(5, -2), (2, 2), (-2, -1)], color = 'green', marker = \"^\")], \n",
    "            [LinesCollection([[(-1,2),(-2,3)]])])\n",
    "plot.draw()"
   ],
   "metadata": {
    "collapsed": false,
    "pycharm": {
     "name": "#%%\n",
     "is_executing": false
    }
   }
  },
  {
   "cell_type": "markdown",
   "source": [
    "# Rozwiązanie"
   ],
   "metadata": {
    "collapsed": false
   }
  },
  {
   "cell_type": "markdown",
   "source": [
    "## zad 1, 2"
   ],
   "metadata": {
    "collapsed": false
   }
  },
  {
   "cell_type": "markdown",
   "source": [
    "### dataset 1"
   ],
   "metadata": {
    "collapsed": false
   }
  },
  {
   "cell_type": "code",
   "execution_count": 151,
   "outputs": [
    {
     "data": {
      "text/plain": "<Figure size 432x288 with 1 Axes>",
      "image/png": "[encoded data removed]"
     },
     "metadata": {
      "needs_background": "light"
     },
     "output_type": "display_data"
    }
   ],
   "source": [
    "%matplotlib inline\n",
    "def zad_1_a():\n",
    "    p = []\n",
    "    for i in range(0, pow(10, 5)):\n",
    "        p.append((random.uniform(-1000, 1000), random.uniform(-1000, 1000)))\n",
    "    return p\n",
    "\n",
    "plot = Plot([PointsCollection(zad_1_a())])\n",
    "plot.draw()"
   ],
   "metadata": {
    "collapsed": false,
    "pycharm": {
     "name": "#%%\n",
     "is_executing": false
    }
   }
  },
  {
   "cell_type": "markdown",
   "source": [
    "### dataset 2"
   ],
   "metadata": {
    "collapsed": false
   }
  },
  {
   "cell_type": "code",
   "execution_count": 152,
   "outputs": [
    {
     "data": {
      "text/plain": "<Figure size 432x288 with 1 Axes>",
      "image/png": "[encoded data removed]"
     },
     "metadata": {
      "needs_background": "light"
     },
     "output_type": "display_data"
    }
   ],
   "source": [
    "%matplotlib inline\n",
    "def zad_1_b():\n",
    "    p = []\n",
    "    for i in range(0, pow(10, 5)):\n",
    "        p.append((random.uniform(-pow(10, 14), pow(10, 14)), random.uniform(-pow(10, 14), pow(10, 14))))\n",
    "    return p\n",
    "\n",
    "plot = Plot([PointsCollection(zad_1_b())])\n",
    "plot.draw()"
   ],
   "metadata": {
    "collapsed": false,
    "pycharm": {
     "name": "#%%\n",
     "is_executing": false
    }
   }
  },
  {
   "cell_type": "markdown",
   "source": [
    "### dataset 3"
   ],
   "metadata": {
    "collapsed": false
   }
  },
  {
   "cell_type": "code",
   "execution_count": 153,
   "outputs": [
    {
     "data": {
      "text/plain": "<Figure size 432x288 with 1 Axes>",
      "image/png": "[encoded data removed]"
     },
     "metadata": {
      "needs_background": "light"
     },
     "output_type": "display_data"
    }
   ],
   "source": [
    "%matplotlib inline\n",
    "def zad_1_c():\n",
    "    p = []\n",
    "    for i in range(0, 1000):\n",
    "        theta = random.random() * 2 * np.pi\n",
    "        p.append((np.cos(theta) * 100, np.sin(theta) * 100))\n",
    "    return p\n",
    "\n",
    "plot = Plot([PointsCollection(zad_1_c())])\n",
    "plot.draw()"
   ],
   "metadata": {
    "collapsed": false,
    "pycharm": {
     "name": "#%%\n",
     "is_executing": false
    }
   }
  },
  {
   "cell_type": "markdown",
   "source": [
    "### dataset 4"
   ],
   "metadata": {
    "collapsed": false
   }
  },
  {
   "cell_type": "code",
   "execution_count": 154,
   "outputs": [
    {
     "data": {
      "text/plain": "<Figure size 432x288 with 1 Axes>",
      "image/png": "[encoded data removed]"
     },
     "metadata": {
      "needs_background": "light"
     },
     "output_type": "display_data"
    }
   ],
   "source": [
    "%matplotlib inline\n",
    "def zad_1_d():\n",
    "    points = []\n",
    "    a = [-1.0, 0.0]\n",
    "    b = [1.0, 0.1]\n",
    "    m = (b[1] - a[1]) / (b[0] - a[0])\n",
    "    c = a[1] - a[0] * m\n",
    "    for i in range(0, 1000):\n",
    "        x = random.uniform(-1000, 1000)\n",
    "        y = m * x + c\n",
    "        points.append((x, y))\n",
    "    return points\n",
    "\n",
    "plot = Plot([PointsCollection(zad_1_d())])\n",
    "plot.draw()"
   ],
   "metadata": {
    "collapsed": false,
    "pycharm": {
     "name": "#%%\n",
     "is_executing": false
    }
   }
  },
  {
   "cell_type": "code",
   "execution_count": 155,
   "outputs": [],
   "source": [
    "def det_1(c, epsilon=0):\n",
    "    a = (-1.0, 0.0, 1)\n",
    "    b = (1.0, 0.1, 1)\n",
    "    c = (c[0], c[1], 1)\n",
    "    det = a[0] * b[1] * c[2] + a[1] * b[2] * c[0] + a[2] * b[0] * c[1] - a[2] * b[1] * c[0] - a[1] * b[0] * c[2] - a[\n",
    "        0] * b[2] * c[1]\n",
    "    if det < -epsilon:\n",
    "        return -1\n",
    "    if det > epsilon:\n",
    "        return 1\n",
    "    else:\n",
    "        return 0\n",
    "\n",
    "\n",
    "def det_2(c, epsilon=0):\n",
    "    a = (-1.0, 0.0)\n",
    "    b = (1.0, 0.1)\n",
    "    ca = (c[0] - a[0], c[1] - a[1])\n",
    "    cb = (c[0] - b[0], c[1] - b[1])\n",
    "    det = ca[0] * cb[1] - ca[1] * cb[0]\n",
    "    if det < -epsilon:\n",
    "        return -1\n",
    "    if det > epsilon:\n",
    "        return 1\n",
    "    else:\n",
    "        return 0"
   ],
   "metadata": {
    "collapsed": false,
    "pycharm": {
     "name": "#%%\n",
     "is_executing": false
    }
   }
  },
  {
   "cell_type": "markdown",
   "source": [
    "#zad 3, 4\n",
    "    "
   ],
   "metadata": {
    "collapsed": false
   }
  },
  {
   "cell_type": "markdown",
   "source": [
    "## dataset 1"
   ],
   "metadata": {
    "collapsed": false
   }
  },
  {
   "cell_type": "code",
   "execution_count": 156,
   "outputs": [],
   "source": [
    "dataset = zad_1_a()"
   ],
   "metadata": {
    "collapsed": false,
    "pycharm": {
     "name": "#%%\n",
     "is_executing": false
    }
   }
  },
  {
   "cell_type": "markdown",
   "source": [
    "### epsilon = 0\n"
   ],
   "metadata": {
    "collapsed": false
   }
  },
  {
   "cell_type": "markdown",
   "source": [
    "#### wyznacznik 2x2"
   ],
   "metadata": {
    "collapsed": false
   }
  },
  {
   "cell_type": "code",
   "execution_count": 157,
   "outputs": [
    {
     "name": "stdout",
     "text": [
      "points left to the line = 49969\npoints on the line = 0\npoints tight to the line = 50031\n"
     ],
     "output_type": "stream"
    },
    {
     "data": {
      "text/plain": "<Figure size 432x288 with 1 Axes>",
      "image/png": "[encoded data removed]"
     },
     "metadata": {
      "needs_background": "light"
     },
     "output_type": "display_data"
    }
   ],
   "source": [
    "%matplotlib inline\n",
    "left =  [x for x in dataset if det_1(x, 0)>0]\n",
    "on =  [x for x in dataset if det_1(x, 0)==0]\n",
    "right =  [x for x in dataset if det_1(x, 0)<0]\n",
    "print('points left to the line = ' + str(len(left)))\n",
    "print('points on the line = ' + str(len(on)))\n",
    "print('points tight to the line = ' + str(len(right)))\n",
    "plot = Plot([PointsCollection(left),PointsCollection(right),PointsCollection(on)])\n",
    "plot.draw()\n",
    "\n"
   ],
   "metadata": {
    "collapsed": false,
    "pycharm": {
     "name": "#%%\n",
     "is_executing": false
    }
   }
  },
  {
   "cell_type": "markdown",
   "source": [
    "#### wyznacznik 3x3"
   ],
   "metadata": {
    "collapsed": false
   }
  },
  {
   "cell_type": "code",
   "execution_count": 158,
   "outputs": [
    {
     "name": "stdout",
     "text": [
      "points left to the line = 49969\npoints on the line = 0\npoints tight to the line = 50031\n"
     ],
     "output_type": "stream"
    },
    {
     "data": {
      "text/plain": "<Figure size 432x288 with 1 Axes>",
      "image/png": "[encoded data removed]"
     },
     "metadata": {
      "needs_background": "light"
     },
     "output_type": "display_data"
    }
   ],
   "source": [
    "\n",
    "%matplotlib inline\n",
    "left =  [x for x in dataset if det_2(x, 0)>0]\n",
    "on =  [x for x in dataset if det_2(x, 0)==0]\n",
    "right =  [x for x in dataset if det_2(x, 0)<0]\n",
    "print('points left to the line = ' + str(len(left)))\n",
    "print('points on the line = ' + str(len(on)))\n",
    "print('points tight to the line = ' + str(len(right)))\n",
    "plot = Plot([PointsCollection(left),PointsCollection(right),PointsCollection(on)])\n",
    "plot.draw()"
   ],
   "metadata": {
    "collapsed": false,
    "pycharm": {
     "name": "#%%\n",
     "is_executing": false
    }
   }
  },
  {
   "cell_type": "markdown",
   "source": [
    "#### difference"
   ],
   "metadata": {
    "collapsed": false
   }
  },
  {
   "cell_type": "code",
   "execution_count": 159,
   "outputs": [
    {
     "name": "stdout",
     "text": [
      "points allocated differently = 49969\n"
     ],
     "output_type": "stream"
    },
    {
     "data": {
      "text/plain": "<Figure size 432x288 with 1 Axes>",
      "image/png": "[encoded data removed]"
     },
     "metadata": {
      "needs_background": "light"
     },
     "output_type": "display_data"
    }
   ],
   "source": [
    "%matplotlib inline\n",
    "diff =  [x for x in dataset if det_1(x, 0)!=det_2(x,0)]\n",
    "print('points allocated differently = ' + str(len(left)))\n",
    "plot = Plot([PointsCollection(diff)])\n",
    "plot.draw()"
   ],
   "metadata": {
    "collapsed": false,
    "pycharm": {
     "name": "#%%\n",
     "is_executing": false
    }
   }
  },
  {
   "cell_type": "markdown",
   "source": [
    "### epsilon = 10^-3\n"
   ],
   "metadata": {
    "collapsed": false
   }
  },
  {
   "cell_type": "markdown",
   "source": [
    "#### wyznacznik 2x2"
   ],
   "metadata": {
    "collapsed": false
   }
  },
  {
   "cell_type": "code",
   "execution_count": 160,
   "outputs": [
    {
     "name": "stdout",
     "text": [
      "points left to the line = 49969\npoints on the line = 0\npoints tight to the line = 50031\n"
     ],
     "output_type": "stream"
    },
    {
     "data": {
      "text/plain": "<Figure size 432x288 with 1 Axes>",
      "image/png": "[encoded data removed]"
     },
     "metadata": {
      "needs_background": "light"
     },
     "output_type": "display_data"
    }
   ],
   "source": [
    "%matplotlib inline\n",
    "left =  [x for x in dataset if det_1(x, pow(10, -3))>0]\n",
    "on =  [x for x in dataset if det_1(x, pow(10, -3))==0]\n",
    "right =  [x for x in dataset if det_1(x, pow(10, -3))<0]\n",
    "print('points left to the line = ' + str(len(left)))\n",
    "print('points on the line = ' + str(len(on)))\n",
    "print('points tight to the line = ' + str(len(right)))\n",
    "plot = Plot([PointsCollection(left),PointsCollection(right),PointsCollection(on)])\n",
    "plot.draw()\n",
    "\n"
   ],
   "metadata": {
    "collapsed": false,
    "pycharm": {
     "name": "#%%\n",
     "is_executing": false
    }
   }
  },
  {
   "cell_type": "markdown",
   "source": [
    "#### wyznacznik 3x3"
   ],
   "metadata": {
    "collapsed": false
   }
  },
  {
   "cell_type": "code",
   "execution_count": 161,
   "outputs": [
    {
     "name": "stdout",
     "text": [
      "points left to the line = 49969\npoints on the line = 0\npoints tight to the line = 50031\n"
     ],
     "output_type": "stream"
    },
    {
     "data": {
      "text/plain": "<Figure size 432x288 with 1 Axes>",
      "image/png": "[encoded data removed]"
     },
     "metadata": {
      "needs_background": "light"
     },
     "output_type": "display_data"
    }
   ],
   "source": [
    "\n",
    "%matplotlib inline\n",
    "left =  [x for x in dataset if det_2(x, pow(10, -3))>0]\n",
    "on =  [x for x in dataset if det_2(x, pow(10, -3))==0]\n",
    "right =  [x for x in dataset if det_2(x, pow(10, -3))<0]\n",
    "print('points left to the line = ' + str(len(left)))\n",
    "print('points on the line = ' + str(len(on)))\n",
    "print('points tight to the line = ' + str(len(right)))\n",
    "plot = Plot([PointsCollection(left),PointsCollection(right),PointsCollection(on)])\n",
    "plot.draw()"
   ],
   "metadata": {
    "collapsed": false,
    "pycharm": {
     "name": "#%%\n",
     "is_executing": false
    }
   }
  },
  {
   "cell_type": "markdown",
   "source": [
    "#### difference"
   ],
   "metadata": {
    "collapsed": false
   }
  },
  {
   "cell_type": "code",
   "execution_count": 162,
   "outputs": [
    {
     "name": "stdout",
     "text": [
      "points allocated differently = 49969\n"
     ],
     "output_type": "stream"
    },
    {
     "data": {
      "text/plain": "<Figure size 432x288 with 1 Axes>",
      "image/png": "[encoded data removed]"
     },
     "metadata": {
      "needs_background": "light"
     },
     "output_type": "display_data"
    }
   ],
   "source": [
    "%matplotlib inline\n",
    "diff =  [x for x in dataset if det_1(x, pow(10, -3))!=det_2(x,pow(10, -3))]\n",
    "print('points allocated differently = ' + str(len(left)))\n",
    "plot = Plot([PointsCollection(diff)])\n",
    "plot.draw()"
   ],
   "metadata": {
    "collapsed": false,
    "pycharm": {
     "name": "#%%\n",
     "is_executing": false
    }
   }
  },
  {
   "cell_type": "markdown",
   "source": [
    "### epsilon = 10^-6\n"
   ],
   "metadata": {
    "collapsed": false
   }
  },
  {
   "cell_type": "markdown",
   "source": [
    "#### wyznacznik 2x2"
   ],
   "metadata": {
    "collapsed": false
   }
  },
  {
   "cell_type": "code",
   "execution_count": 163,
   "outputs": [
    {
     "name": "stdout",
     "text": [
      "points left to the line = 49969\npoints on the line = 0\npoints tight to the line = 50031\n"
     ],
     "output_type": "stream"
    },
    {
     "data": {
      "text/plain": "<Figure size 432x288 with 1 Axes>",
      "image/png": "[encoded data removed]"
     },
     "metadata": {
      "needs_background": "light"
     },
     "output_type": "display_data"
    }
   ],
   "source": [
    "%matplotlib inline\n",
    "left =  [x for x in dataset if det_1(x, pow(10, -6))>0]\n",
    "on =  [x for x in dataset if det_1(x, pow(10, -6))==0]\n",
    "right =  [x for x in dataset if det_1(x, pow(10, -6))<0]\n",
    "print('points left to the line = ' + str(len(left)))\n",
    "print('points on the line = ' + str(len(on)))\n",
    "print('points tight to the line = ' + str(len(right)))\n",
    "plot = Plot([PointsCollection(left),PointsCollection(right),PointsCollection(on)])\n",
    "plot.draw()\n",
    "\n"
   ],
   "metadata": {
    "collapsed": false,
    "pycharm": {
     "name": "#%%\n",
     "is_executing": false
    }
   }
  },
  {
   "cell_type": "markdown",
   "source": [
    "#### wyznacznik 3x3"
   ],
   "metadata": {
    "collapsed": false
   }
  },
  {
   "cell_type": "code",
   "execution_count": 164,
   "outputs": [
    {
     "name": "stdout",
     "text": [
      "points left to the line = 49969\npoints on the line = 0\npoints tight to the line = 50031\n"
     ],
     "output_type": "stream"
    },
    {
     "data": {
      "text/plain": "<Figure size 432x288 with 1 Axes>",
      "image/png": "[encoded data removed]"
     },
     "metadata": {
      "needs_background": "light"
     },
     "output_type": "display_data"
    }
   ],
   "source": [
    "\n",
    "%matplotlib inline\n",
    "left =  [x for x in dataset if det_2(x, pow(10, -6))>0]\n",
    "on =  [x for x in dataset if det_2(x, pow(10, -6))==0]\n",
    "right =  [x for x in dataset if det_2(x, pow(10, -6))<0]\n",
    "print('points left to the line = ' + str(len(left)))\n",
    "print('points on the line = ' + str(len(on)))\n",
    "print('points tight to the line = ' + str(len(right)))\n",
    "plot = Plot([PointsCollection(left),PointsCollection(right),PointsCollection(on)])\n",
    "plot.draw()"
   ],
   "metadata": {
    "collapsed": false,
    "pycharm": {
     "name": "#%%\n",
     "is_executing": false
    }
   }
  },
  {
   "cell_type": "markdown",
   "source": [
    "#### difference"
   ],
   "metadata": {
    "collapsed": false
   }
  },
  {
   "cell_type": "code",
   "execution_count": 165,
   "outputs": [
    {
     "name": "stdout",
     "text": [
      "points allocated differently = 49969\n"
     ],
     "output_type": "stream"
    },
    {
     "data": {
      "text/plain": "<Figure size 432x288 with 1 Axes>",
      "image/png": "[encoded data removed]"
     },
     "metadata": {
      "needs_background": "light"
     },
     "output_type": "display_data"
    }
   ],
   "source": [
    "%matplotlib inline\n",
    "diff =  [x for x in dataset if det_1(x, pow(10, -6))!=det_2(x,pow(10, -6))]\n",
    "print('points allocated differently = ' + str(len(left)))\n",
    "plot = Plot([PointsCollection(diff)])\n",
    "plot.draw()"
   ],
   "metadata": {
    "collapsed": false,
    "pycharm": {
     "name": "#%%\n",
     "is_executing": false
    }
   }
  },
  {
   "cell_type": "markdown",
   "source": [
    "### epsilon = 10^-12\n"
   ],
   "metadata": {
    "collapsed": false
   }
  },
  {
   "cell_type": "markdown",
   "source": [
    "#### wyznacznik 2x2"
   ],
   "metadata": {
    "collapsed": false
   }
  },
  {
   "cell_type": "code",
   "execution_count": 166,
   "outputs": [
    {
     "name": "stdout",
     "text": [
      "points left to the line = 49969\npoints on the line = 0\npoints tight to the line = 50031\n"
     ],
     "output_type": "stream"
    },
    {
     "data": {
      "text/plain": "<Figure size 432x288 with 1 Axes>",
      "image/png": "[encoded data removed]"
     },
     "metadata": {
      "needs_background": "light"
     },
     "output_type": "display_data"
    }
   ],
   "source": [
    "%matplotlib inline\n",
    "left =  [x for x in dataset if det_1(x, pow(10, -12))>0]\n",
    "on =  [x for x in dataset if det_1(x, pow(10, -12))==0]\n",
    "right =  [x for x in dataset if det_1(x, pow(10, -12))<0]\n",
    "print('points left to the line = ' + str(len(left)))\n",
    "print('points on the line = ' + str(len(on)))\n",
    "print('points tight to the line = ' + str(len(right)))\n",
    "plot = Plot([PointsCollection(left),PointsCollection(right),PointsCollection(on)])\n",
    "plot.draw()\n",
    "\n"
   ],
   "metadata": {
    "collapsed": false,
    "pycharm": {
     "name": "#%%\n",
     "is_executing": false
    }
   }
  },
  {
   "cell_type": "markdown",
   "source": [
    "#### wyznacznik 3x3"
   ],
   "metadata": {
    "collapsed": false
   }
  },
  {
   "cell_type": "code",
   "execution_count": 167,
   "outputs": [
    {
     "name": "stdout",
     "text": [
      "points left to the line = 49969\npoints on the line = 0\npoints tight to the line = 50031\n"
     ],
     "output_type": "stream"
    },
    {
     "data": {
      "text/plain": "<Figure size 432x288 with 1 Axes>",
      "image/png": "[encoded data removed]"
     },
     "metadata": {
      "needs_background": "light"
     },
     "output_type": "display_data"
    }
   ],
   "source": [
    "\n",
    "%matplotlib inline\n",
    "left =  [x for x in dataset if det_2(x, pow(10, -12))>0]\n",
    "on =  [x for x in dataset if det_2(x, pow(10, -12))==0]\n",
    "right =  [x for x in dataset if det_2(x, pow(10, -12))<0]\n",
    "print('points left to the line = ' + str(len(left)))\n",
    "print('points on the line = ' + str(len(on)))\n",
    "print('points tight to the line = ' + str(len(right)))\n",
    "plot = Plot([PointsCollection(left),PointsCollection(right),PointsCollection(on)])\n",
    "plot.draw()"
   ],
   "metadata": {
    "collapsed": false,
    "pycharm": {
     "name": "#%%\n",
     "is_executing": false
    }
   }
  },
  {
   "cell_type": "markdown",
   "source": [
    "#### difference"
   ],
   "metadata": {
    "collapsed": false
   }
  },
  {
   "cell_type": "code",
   "execution_count": 168,
   "outputs": [
    {
     "name": "stdout",
     "text": [
      "points allocated differently = 49969\n"
     ],
     "output_type": "stream"
    },
    {
     "data": {
      "text/plain": "<Figure size 432x288 with 1 Axes>",
      "image/png": "[encoded data removed]"
     },
     "metadata": {
      "needs_background": "light"
     },
     "output_type": "display_data"
    }
   ],
   "source": [
    "%matplotlib inline\n",
    "diff =  [x for x in dataset if det_1(x, pow(10, -12))!=det_2(x,pow(10, -12))]\n",
    "print('points allocated differently = ' + str(len(left)))\n",
    "plot = Plot([PointsCollection(diff)])\n",
    "plot.draw()"
   ],
   "metadata": {
    "collapsed": false,
    "pycharm": {
     "name": "#%%\n",
     "is_executing": false
    }
   }
  }
 ],
 "metadata": {
  "kernelspec": {
   "display_name": "Python 3",
   "language": "python",
   "name": "python3"
  },
  "language_info": {
   "codemirror_mode": {
    "name": "ipython",
    "version": 3
   },
   "file_extension": ".py",
   "mimetype": "text/x-python",
   "name": "python",
   "nbconvert_exporter": "python",
   "pygments_lexer": "ipython3",
   "version": "3.7.4"
  },
  "pycharm": {
   "stem_cell": {
    "cell_type": "raw",
    "source": [],
    "metadata": {
     "collapsed": false
    }
   }
  }
 },
 "nbformat": 4,
 "nbformat_minor": 1
}