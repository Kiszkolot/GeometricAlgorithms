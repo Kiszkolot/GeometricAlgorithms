{
 "cells": [
  {
   "cell_type": "markdown",
   "source": [
    "# Laboratorium 1\n"
   ],
   "metadata": {
    "collapsed": false
   }
  },
  {
   "cell_type": "markdown",
   "source": [
    "### Konfiguracja"
   ],
   "metadata": {
    "collapsed": false
   }
  },
  {
   "cell_type": "code",
   "execution_count": 1,
   "outputs": [],
   "source": [
    "import random\n",
    "import numpy as np\n",
    "import matplotlib.pyplot as plt\n",
    "import matplotlib.collections as mcoll\n",
    "import matplotlib.colors as mcolors\n",
    "import json as js"
   ],
   "metadata": {
    "collapsed": false,
    "pycharm": {
     "name": "#%%\n",
     "is_executing": false
    }
   }
  },
  {
   "cell_type": "markdown",
   "source": [
    "### Interfejsy\n",
    "\n",
    "[Dostępne kolory](https://matplotlib.org/3.1.1/gallery/color/named_colors.html)\n",
    "[Dostępne znaczniki punktów](https://matplotlib.org/3.1.1/api/markers_api.html#module-matplotlib.markers)"
   ],
   "metadata": {
    "collapsed": false
   }
  },
  {
   "cell_type": "code",
   "execution_count": 2,
   "outputs": [],
   "source": [
    "class PointsCollection:\n",
    "    def __init__(self, points = [], color = None, marker = None):\n",
    "        self.points = np.array(points)\n",
    "        self.color = color\n",
    "        self.marker = marker\n",
    "        \n",
    "class LinesCollection:\n",
    "    def __init__(self, lines = [], color = None):\n",
    "        self.color = color\n",
    "        self.lines = lines\n",
    "        \n",
    "    def add(self, line):\n",
    "        self.lines.append(line)\n",
    "        \n",
    "    def get_collection(self):\n",
    "        if self.color:\n",
    "            return mcoll.LineCollection(self.lines, [mcolors.to_rgba(self.color)] * len(self.lines))\n",
    "        else:\n",
    "            return mcoll.LineCollection(self.lines)\n",
    "\n",
    "class Plot:\n",
    "    def __init__(self, points=[], lines=[], json = None):\n",
    "        if json is None:\n",
    "            self.points = points\n",
    "            self.lines = lines\n",
    "        else:\n",
    "            self.points = [PointsCollection(pointsCol) for pointsCol in js.loads(json)[\"points\"]]\n",
    "            self.lines = [LinesCollection(linesCol) for linesCol in js.loads(json)[\"lines\"]]\n",
    "            \n",
    "    def draw(self):\n",
    "        plt.close()\n",
    "        ax = plt.axes()\n",
    "        for collection in self.points:\n",
    "            if collection.points.size > 0:\n",
    "                ax.scatter(*zip(*collection.points), c=collection.color, marker=collection.marker)\n",
    "        for collection in self.lines:\n",
    "            ax.add_collection(collection.get_collection())\n",
    "        ax.autoscale()\n",
    "        plt.draw()\n",
    "        \n",
    "    def toJSON(self):\n",
    "        return js.dumps({\"points\": [pointCol.points.tolist() for pointCol in self.points], \n",
    "                          \"lines\":[linesCol.lines for linesCol in self.lines]})"
   ],
   "metadata": {
    "collapsed": false,
    "pycharm": {
     "name": "#%%\n",
     "is_executing": false
    }
   }
  },
  {
   "cell_type": "markdown",
   "source": [
    "### Przykład użycia"
   ],
   "metadata": {
    "collapsed": false
   }
  },
  {
   "cell_type": "code",
   "execution_count": 3,
   "outputs": [
    {
     "data": {
      "text/plain": "<Figure size 432x288 with 1 Axes>",
      "image/png": "[encoded data removed]"
     },
     "metadata": {
      "needs_background": "light"
     },
     "output_type": "display_data"
    }
   ],
   "source": [
    "%matplotlib inline\n",
    "\n",
    "plot = Plot([PointsCollection([(1, 2), (3, 1.5), (2, -1)]), \n",
    "             PointsCollection([(5, -2), (2, 2), (-2, -1)], color = 'green', marker = \"^\")], \n",
    "            [LinesCollection([[(-1,2),(-2,3)]])])\n",
    "plot.draw()"
   ],
   "metadata": {
    "collapsed": false,
    "pycharm": {
     "name": "#%%\n",
     "is_executing": false
    }
   }
  },
  {
   "cell_type": "markdown",
   "source": [
    "# Rozwiązanie"
   ],
   "metadata": {
    "collapsed": false
   }
  },
  {
   "cell_type": "markdown",
   "source": [
    "## zad 1, 2"
   ],
   "metadata": {
    "collapsed": false
   }
  },
  {
   "cell_type": "markdown",
   "source": [
    "### dataset 1"
   ],
   "metadata": {
    "collapsed": false
   }
  },
  {
   "cell_type": "code",
   "execution_count": 4,
   "outputs": [
    {
     "data": {
      "text/plain": "<Figure size 432x288 with 1 Axes>",
      "image/png": "[encoded data removed]"
     },
     "metadata": {
      "needs_background": "light"
     },
     "output_type": "display_data"
    }
   ],
   "source": [
    "%matplotlib inline\n",
    "def zad_1_a():\n",
    "    p = []\n",
    "    for i in range(0, pow(10, 5)):\n",
    "        p.append((random.uniform(-1000, 1000), random.uniform(-1000, 1000)))\n",
    "    return p\n",
    "\n",
    "plot = Plot([PointsCollection(zad_1_a())])\n",
    "plot.draw()"
   ],
   "metadata": {
    "collapsed": false,
    "pycharm": {
     "name": "#%%\n",
     "is_executing": false
    }
   }
  },
  {
   "cell_type": "markdown",
   "source": [
    "### dataset 2"
   ],
   "metadata": {
    "collapsed": false
   }
  },
  {
   "cell_type": "code",
   "execution_count": 5,
   "outputs": [
    {
     "data": {
      "text/plain": "<Figure size 432x288 with 1 Axes>",
      "image/png": "[encoded data removed]"
     },
     "metadata": {
      "needs_background": "light"
     },
     "output_type": "display_data"
    }
   ],
   "source": [
    "%matplotlib inline\n",
    "def zad_1_b():\n",
    "    p = []\n",
    "    for i in range(0, pow(10, 5)):\n",
    "        p.append((random.uniform(-pow(10, 14), pow(10, 14)), random.uniform(-pow(10, 14), pow(10, 14))))\n",
    "    return p\n",
    "\n",
    "plot = Plot([PointsCollection(zad_1_b())])\n",
    "plot.draw()"
   ],
   "metadata": {
    "collapsed": false,
    "pycharm": {
     "name": "#%%\n",
     "is_executing": false
    }
   }
  },
  {
   "cell_type": "markdown",
   "source": [
    "### dataset 3"
   ],
   "metadata": {
    "collapsed": false
   }
  },
  {
   "cell_type": "code",
   "execution_count": 6,
   "outputs": [
    {
     "data": {
      "text/plain": "<Figure size 432x288 with 1 Axes>",
      "image/png": "[encoded data removed]"
     },
     "metadata": {
      "needs_background": "light"
     },
     "output_type": "display_data"
    }
   ],
   "source": [
    "%matplotlib inline\n",
    "def zad_1_c():\n",
    "    p = []\n",
    "    for i in range(0, 1000):\n",
    "        theta = random.random() * 2 * np.pi\n",
    "        p.append((np.cos(theta) * 100, np.sin(theta) * 100))\n",
    "    return p\n",
    "\n",
    "plot = Plot([PointsCollection(zad_1_c())])\n",
    "plot.draw()"
   ],
   "metadata": {
    "collapsed": false,
    "pycharm": {
     "name": "#%%\n",
     "is_executing": false
    }
   }
  },
  {
   "cell_type": "markdown",
   "source": [
    "### dataset 4"
   ],
   "metadata": {
    "collapsed": false
   }
  },
  {
   "cell_type": "code",
   "execution_count": 7,
   "outputs": [
    {
     "data": {
      "text/plain": "<Figure size 432x288 with 1 Axes>",
      "image/png": "[encoded data removed]"
     },
     "metadata": {
      "needs_background": "light"
     },
     "output_type": "display_data"
    }
   ],
   "source": [
    "%matplotlib inline\n",
    "def zad_1_d():\n",
    "    points = []\n",
    "    a = [-1.0, 0.0]\n",
    "    b = [1.0, 0.1]\n",
    "    m = (b[1] - a[1]) / (b[0] - a[0])\n",
    "    c = a[1] - a[0] * m\n",
    "    for i in range(0, 1000):\n",
    "        x = random.uniform(-1000, 1000)\n",
    "        y = m * x + c\n",
    "        points.append((x, y))\n",
    "    return points\n",
    "\n",
    "plot = Plot([PointsCollection(zad_1_d())])\n",
    "plot.draw()"
   ],
   "metadata": {
    "collapsed": false,
    "pycharm": {
     "name": "#%%\n",
     "is_executing": false
    }
   }
  },
  {
   "cell_type": "code",
   "execution_count": 8,
   "outputs": [],
   "source": [
    "def det_1(c, epsilon=0):\n",
    "    a = (-1.0, 0.0, 1)\n",
    "    b = (1.0, 0.1, 1)\n",
    "    c = (c[0], c[1], 1)\n",
    "    det = a[0] * b[1] * c[2] + a[1] * b[2] * c[0] + a[2] * b[0] * c[1] - a[2] * b[1] * c[0] - a[1] * b[0] * c[2] - a[\n",
    "        0] * b[2] * c[1]\n",
    "    if det < -epsilon:\n",
    "        return -1\n",
    "    if det > epsilon:\n",
    "        return 1\n",
    "    else:\n",
    "        return 0\n",
    "\n",
    "\n",
    "def det_2(c, epsilon=0):\n",
    "    a = (-1.0, 0.0)\n",
    "    b = (1.0, 0.1)\n",
    "    ca = (c[0] - a[0], c[1] - a[1])\n",
    "    cb = (c[0] - b[0], c[1] - b[1])\n",
    "    det = ca[0] * cb[1] - ca[1] * cb[0]\n",
    "    if det < -epsilon:\n",
    "        return -1\n",
    "    if det > epsilon:\n",
    "        return 1\n",
    "    else:\n",
    "        return 0"
   ],
   "metadata": {
    "collapsed": false,
    "pycharm": {
     "name": "#%%\n",
     "is_executing": false
    }
   }
  },
  {
   "cell_type": "markdown",
   "source": [
    "#zad 3, 4\n",
    "    "
   ],
   "metadata": {
    "collapsed": false
   }
  },
  {
   "cell_type": "markdown",
   "source": [
    "## dataset 1"
   ],
   "metadata": {
    "collapsed": false
   }
  },
  {
   "cell_type": "code",
   "execution_count": 9,
   "outputs": [],
   "source": [
    "dataset = zad_1_a()"
   ],
   "metadata": {
    "collapsed": false,
    "pycharm": {
     "name": "#%%\n",
     "is_executing": false
    }
   }
  },
  {
   "cell_type": "markdown",
   "source": [
    "### epsilon = 0"
   ],
   "metadata": {
    "collapsed": false
   }
  },
  {
   "cell_type": "code",
   "execution_count": 10,
   "outputs": [],
   "source": [
    "epsilon = 0\n"
   ],
   "metadata": {
    "collapsed": false,
    "pycharm": {
     "name": "#%%\n",
     "is_executing": false
    }
   }
  },
  {
   "cell_type": "markdown",
   "source": [
    "#### wyznacznik 2x2"
   ],
   "metadata": {
    "collapsed": false
   }
  },
  {
   "cell_type": "code",
   "execution_count": 11,
   "outputs": [
    {
     "name": "stdout",
     "text": [
      "points left to the line = 50181\npoints on the line = 0\npoints tight to the line = 49819\n"
     ],
     "output_type": "stream"
    },
    {
     "data": {
      "text/plain": "<Figure size 432x288 with 1 Axes>",
      "image/png": "[encoded data removed]"
     },
     "metadata": {
      "needs_background": "light"
     },
     "output_type": "display_data"
    }
   ],
   "source": [
    "%matplotlib inline\n",
    "left = []\n",
    "on = []\n",
    "right = []\n",
    "for p in dataset:\n",
    "    if det_1(p, epsilon)>0:\n",
    "        left.append(p)\n",
    "    if det_1(p, epsilon)==0:\n",
    "        on.append(p)\n",
    "    if det_1(p, epsilon)<0:\n",
    "        right.append(p)\n",
    "print('points left to the line = ' + str(len(left)))\n",
    "print('points on the line = ' + str(len(on)))\n",
    "print('points tight to the line = ' + str(len(right)))\n",
    "plot = Plot([PointsCollection(left),PointsCollection(right),PointsCollection(on)])\n",
    "plot.draw()\n",
    "\n"
   ],
   "metadata": {
    "collapsed": false,
    "pycharm": {
     "name": "#%%\n",
     "is_executing": false
    }
   }
  },
  {
   "cell_type": "markdown",
   "source": [
    "#### wyznacznik 3x3"
   ],
   "metadata": {
    "collapsed": false
   }
  },
  {
   "cell_type": "code",
   "execution_count": 12,
   "outputs": [
    {
     "name": "stdout",
     "text": [
      "points left to the line = 100362\npoints on the line = 0\npoints tight to the line = 99638\n"
     ],
     "output_type": "stream"
    },
    {
     "data": {
      "text/plain": "<Figure size 432x288 with 1 Axes>",
      "image/png": "[encoded data removed]"
     },
     "metadata": {
      "needs_background": "light"
     },
     "output_type": "display_data"
    }
   ],
   "source": [
    "\n",
    "%matplotlib inline\n",
    "for p in dataset:\n",
    "    if det_1(p, epsilon)>0:\n",
    "        left.append(p)\n",
    "    if det_1(p, epsilon)==0:\n",
    "        on.append(p)\n",
    "    if det_1(p, epsilon)<0:\n",
    "        right.append(p)\n",
    "\n",
    "print('points left to the line = ' + str(len(left)))\n",
    "print('points on the line = ' + str(len(on)))\n",
    "print('points tight to the line = ' + str(len(right)))\n",
    "plot = Plot([PointsCollection(left),PointsCollection(right),PointsCollection(on)])\n",
    "plot.draw()"
   ],
   "metadata": {
    "collapsed": false,
    "pycharm": {
     "name": "#%%\n",
     "is_executing": false
    }
   }
  },
  {
   "cell_type": "markdown",
   "source": [
    "#### difference"
   ],
   "metadata": {
    "collapsed": false
   }
  },
  {
   "cell_type": "code",
   "execution_count": 13,
   "outputs": [
    {
     "name": "stdout",
     "text": [
      "points allocated differently = 0\n"
     ],
     "output_type": "stream"
    },
    {
     "data": {
      "text/plain": "<Figure size 432x288 with 1 Axes>",
      "image/png": "[encoded data removed]"
     },
     "metadata": {
      "needs_background": "light"
     },
     "output_type": "display_data"
    }
   ],
   "source": [
    "%matplotlib inline\n",
    "diff =  [x for x in dataset if det_1(x, epsilon)!=det_2(x,epsilon)]\n",
    "print('points allocated differently = ' + str(len(diff)))\n",
    "plot = Plot([PointsCollection(diff)])\n",
    "plot.draw()"
   ],
   "metadata": {
    "collapsed": false,
    "pycharm": {
     "name": "#%%\n",
     "is_executing": false
    }
   }
  },
  {
   "cell_type": "markdown",
   "source": [
    "### epsilon = 0.1"
   ],
   "metadata": {
    "collapsed": false
   }
  },
  {
   "cell_type": "code",
   "execution_count": 14,
   "outputs": [],
   "source": [
    "epsilon = 0.1\n"
   ],
   "metadata": {
    "collapsed": false,
    "pycharm": {
     "name": "#%%\n",
     "is_executing": false
    }
   }
  },
  {
   "cell_type": "markdown",
   "source": [
    "#### wyznacznik 2x2"
   ],
   "metadata": {
    "collapsed": false
   }
  },
  {
   "cell_type": "code",
   "execution_count": 15,
   "outputs": [
    {
     "name": "stdout",
     "text": [
      "points left to the line = 150540\npoints on the line = 6\npoints tight to the line = 149454\n"
     ],
     "output_type": "stream"
    },
    {
     "data": {
      "text/plain": "<Figure size 432x288 with 1 Axes>",
      "image/png": "[encoded data removed]"
     },
     "metadata": {
      "needs_background": "light"
     },
     "output_type": "display_data"
    }
   ],
   "source": [
    "%matplotlib inline\n",
    "for p in dataset:\n",
    "    if det_1(p, epsilon)>0:\n",
    "        left.append(p)\n",
    "    if det_1(p, epsilon)==0:\n",
    "        on.append(p)\n",
    "    if det_1(p, epsilon)<0:\n",
    "        right.append(p)\n",
    "\n",
    "print('points left to the line = ' + str(len(left)))\n",
    "print('points on the line = ' + str(len(on)))\n",
    "print('points tight to the line = ' + str(len(right)))\n",
    "plot = Plot([PointsCollection(left),PointsCollection(right),PointsCollection(on)])\n",
    "plot.draw()\n",
    "\n"
   ],
   "metadata": {
    "collapsed": false,
    "pycharm": {
     "name": "#%%\n",
     "is_executing": false
    }
   }
  },
  {
   "cell_type": "markdown",
   "source": [
    "#### wyznacznik 3x3"
   ],
   "metadata": {
    "collapsed": false
   }
  },
  {
   "cell_type": "code",
   "execution_count": 16,
   "outputs": [
    {
     "name": "stdout",
     "text": [
      "points left to the line = 200718\npoints on the line = 12\npoints tight to the line = 199270\n"
     ],
     "output_type": "stream"
    },
    {
     "data": {
      "text/plain": "<Figure size 432x288 with 1 Axes>",
      "image/png": "[encoded data removed]"
     },
     "metadata": {
      "needs_background": "light"
     },
     "output_type": "display_data"
    }
   ],
   "source": [
    "\n",
    "%matplotlib inline\n",
    "for p in dataset:\n",
    "    if det_1(p, epsilon)>0:\n",
    "        left.append(p)\n",
    "    if det_1(p, epsilon)==0:\n",
    "        on.append(p)\n",
    "    if det_1(p, epsilon)<0:\n",
    "        right.append(p)\n",
    "\n",
    "print('points left to the line = ' + str(len(left)))\n",
    "print('points on the line = ' + str(len(on)))\n",
    "print('points tight to the line = ' + str(len(right)))\n",
    "plot = Plot([PointsCollection(left),PointsCollection(right),PointsCollection(on)])\n",
    "plot.draw()"
   ],
   "metadata": {
    "collapsed": false,
    "pycharm": {
     "name": "#%%\n",
     "is_executing": false
    }
   }
  },
  {
   "cell_type": "markdown",
   "source": [
    "#### difference"
   ],
   "metadata": {
    "collapsed": false
   }
  },
  {
   "cell_type": "code",
   "execution_count": 17,
   "outputs": [
    {
     "name": "stdout",
     "text": [
      "points allocated differently = 0\n"
     ],
     "output_type": "stream"
    },
    {
     "data": {
      "text/plain": "<Figure size 432x288 with 1 Axes>",
      "image/png": "[encoded data removed]"
     },
     "metadata": {
      "needs_background": "light"
     },
     "output_type": "display_data"
    }
   ],
   "source": [
    "%matplotlib inline\n",
    "diff =  [x for x in dataset if det_1(x, epsilon)!=det_2(x,epsilon)]\n",
    "print('points allocated differently = ' + str(len(diff)))\n",
    "plot = Plot([PointsCollection(diff)])\n",
    "plot.draw()"
   ],
   "metadata": {
    "collapsed": false,
    "pycharm": {
     "name": "#%%\n",
     "is_executing": false
    }
   }
  },
  {
   "cell_type": "markdown",
   "source": [
    "### epsilon = 1"
   ],
   "metadata": {
    "collapsed": false
   }
  },
  {
   "cell_type": "code",
   "execution_count": 18,
   "outputs": [],
   "source": [
    "epsilon = 1\n"
   ],
   "metadata": {
    "collapsed": false,
    "pycharm": {
     "name": "#%%\n",
     "is_executing": false
    }
   }
  },
  {
   "cell_type": "markdown",
   "source": [
    "#### wyznacznik 2x2"
   ],
   "metadata": {
    "collapsed": false
   }
  },
  {
   "cell_type": "code",
   "execution_count": 19,
   "outputs": [
    {
     "name": "stdout",
     "text": [
      "points left to the line = 250881\npoints on the line = 54\npoints tight to the line = 249065\n"
     ],
     "output_type": "stream"
    },
    {
     "data": {
      "text/plain": "<Figure size 432x288 with 1 Axes>",
      "image/png": "[encoded data removed]"
     },
     "metadata": {
      "needs_background": "light"
     },
     "output_type": "display_data"
    }
   ],
   "source": [
    "%matplotlib inline\n",
    "for p in dataset:\n",
    "    if det_1(p, epsilon)>0:\n",
    "        left.append(p)\n",
    "    if det_1(p, epsilon)==0:\n",
    "        on.append(p)\n",
    "    if det_1(p, epsilon)<0:\n",
    "        right.append(p)\n",
    "\n",
    "print('points left to the line = ' + str(len(left)))\n",
    "print('points on the line = ' + str(len(on)))\n",
    "print('points tight to the line = ' + str(len(right)))\n",
    "plot = Plot([PointsCollection(left),PointsCollection(right),PointsCollection(on)])\n",
    "plot.draw()\n",
    "\n"
   ],
   "metadata": {
    "collapsed": false,
    "pycharm": {
     "name": "#%%\n",
     "is_executing": false
    }
   }
  },
  {
   "cell_type": "markdown",
   "source": [
    "#### wyznacznik 3x3"
   ],
   "metadata": {
    "collapsed": false
   }
  },
  {
   "cell_type": "code",
   "execution_count": 20,
   "outputs": [
    {
     "name": "stdout",
     "text": [
      "points left to the line = 301044\npoints on the line = 96\npoints tight to the line = 298860\n"
     ],
     "output_type": "stream"
    },
    {
     "data": {
      "text/plain": "<Figure size 432x288 with 1 Axes>",
      "image/png": "[encoded data removed]"
     },
     "metadata": {
      "needs_background": "light"
     },
     "output_type": "display_data"
    }
   ],
   "source": [
    "\n",
    "%matplotlib inline\n",
    "for p in dataset:\n",
    "    if det_1(p, epsilon)>0:\n",
    "        left.append(p)\n",
    "    if det_1(p, epsilon)==0:\n",
    "        on.append(p)\n",
    "    if det_1(p, epsilon)<0:\n",
    "        right.append(p)\n",
    "\n",
    "print('points left to the line = ' + str(len(left)))\n",
    "print('points on the line = ' + str(len(on)))\n",
    "print('points tight to the line = ' + str(len(right)))\n",
    "plot = Plot([PointsCollection(left),PointsCollection(right),PointsCollection(on)])\n",
    "plot.draw()"
   ],
   "metadata": {
    "collapsed": false,
    "pycharm": {
     "name": "#%%\n",
     "is_executing": false
    }
   }
  },
  {
   "cell_type": "markdown",
   "source": [
    "#### difference"
   ],
   "metadata": {
    "collapsed": false
   }
  },
  {
   "cell_type": "code",
   "execution_count": 21,
   "outputs": [
    {
     "name": "stdout",
     "text": [
      "points allocated differently = 0\n"
     ],
     "output_type": "stream"
    },
    {
     "data": {
      "text/plain": "<Figure size 432x288 with 1 Axes>",
      "image/png": "[encoded data removed]"
     },
     "metadata": {
      "needs_background": "light"
     },
     "output_type": "display_data"
    }
   ],
   "source": [
    "%matplotlib inline\n",
    "diff =  [x for x in dataset if det_1(x, epsilon)!=det_2(x,epsilon)]\n",
    "print('points allocated differently = ' + str(len(diff)))\n",
    "plot = Plot([PointsCollection(diff)])\n",
    "plot.draw()"
   ],
   "metadata": {
    "collapsed": false,
    "pycharm": {
     "name": "#%%\n",
     "is_executing": false
    }
   }
  },
  {
   "cell_type": "markdown",
   "source": [
    "### epsilon = 10"
   ],
   "metadata": {
    "collapsed": false
   }
  },
  {
   "cell_type": "code",
   "execution_count": 22,
   "outputs": [],
   "source": [
    "epsilon = 10\n"
   ],
   "metadata": {
    "collapsed": false,
    "pycharm": {
     "name": "#%%\n",
     "is_executing": false
    }
   }
  },
  {
   "cell_type": "markdown",
   "source": [
    "#### wyznacznik 2x2"
   ],
   "metadata": {
    "collapsed": false
   }
  },
  {
   "cell_type": "code",
   "execution_count": 23,
   "outputs": [
    {
     "name": "stdout",
     "text": [
      "points left to the line = 351005\npoints on the line = 524\npoints tight to the line = 348471\n"
     ],
     "output_type": "stream"
    },
    {
     "data": {
      "text/plain": "<Figure size 432x288 with 1 Axes>",
      "image/png": "[encoded data removed]"
     },
     "metadata": {
      "needs_background": "light"
     },
     "output_type": "display_data"
    }
   ],
   "source": [
    "%matplotlib inline\n",
    "for p in dataset:\n",
    "    if det_1(p, epsilon)>0:\n",
    "        left.append(p)\n",
    "    if det_1(p, epsilon)==0:\n",
    "        on.append(p)\n",
    "    if det_1(p, epsilon)<0:\n",
    "        right.append(p)\n",
    "\n",
    "print('points left to the line = ' + str(len(left)))\n",
    "print('points on the line = ' + str(len(on)))\n",
    "print('points tight to the line = ' + str(len(right)))\n",
    "plot = Plot([PointsCollection(left),PointsCollection(right),PointsCollection(on)])\n",
    "plot.draw()\n",
    "\n"
   ],
   "metadata": {
    "collapsed": false,
    "pycharm": {
     "name": "#%%\n",
     "is_executing": false
    }
   }
  },
  {
   "cell_type": "markdown",
   "source": [
    "#### wyznacznik 3x3"
   ],
   "metadata": {
    "collapsed": false
   }
  },
  {
   "cell_type": "code",
   "execution_count": 24,
   "outputs": [
    {
     "name": "stdout",
     "text": [
      "points left to the line = 400966\npoints on the line = 952\npoints tight to the line = 398082\n"
     ],
     "output_type": "stream"
    },
    {
     "data": {
      "text/plain": "<Figure size 432x288 with 1 Axes>",
      "image/png": "[encoded data removed]"
     },
     "metadata": {
      "needs_background": "light"
     },
     "output_type": "display_data"
    }
   ],
   "source": [
    "\n",
    "%matplotlib inline\n",
    "for p in dataset:\n",
    "    if det_1(p, epsilon)>0:\n",
    "        left.append(p)\n",
    "    if det_1(p, epsilon)==0:\n",
    "        on.append(p)\n",
    "    if det_1(p, epsilon)<0:\n",
    "        right.append(p)\n",
    "\n",
    "print('points left to the line = ' + str(len(left)))\n",
    "print('points on the line = ' + str(len(on)))\n",
    "print('points tight to the line = ' + str(len(right)))\n",
    "plot = Plot([PointsCollection(left),PointsCollection(right),PointsCollection(on)])\n",
    "plot.draw()"
   ],
   "metadata": {
    "collapsed": false,
    "pycharm": {
     "name": "#%%\n",
     "is_executing": false
    }
   }
  },
  {
   "cell_type": "markdown",
   "source": [
    "#### difference"
   ],
   "metadata": {
    "collapsed": false
   }
  },
  {
   "cell_type": "code",
   "execution_count": 25,
   "outputs": [
    {
     "name": "stdout",
     "text": [
      "points allocated differently = 0\n"
     ],
     "output_type": "stream"
    },
    {
     "data": {
      "text/plain": "<Figure size 432x288 with 1 Axes>",
      "image/png": "[encoded data removed]"
     },
     "metadata": {
      "needs_background": "light"
     },
     "output_type": "display_data"
    }
   ],
   "source": [
    "%matplotlib inline\n",
    "diff =  [x for x in dataset if det_1(x, epsilon)!=det_2(x,epsilon)]\n",
    "print('points allocated differently = ' + str(len(diff)))\n",
    "plot = Plot([PointsCollection(diff)])\n",
    "plot.draw()"
   ],
   "metadata": {
    "collapsed": false,
    "pycharm": {
     "name": "#%%\n",
     "is_executing": false
    }
   }
  },
  {
   "cell_type": "markdown",
   "source": [
    "## dataset 2"
   ],
   "metadata": {
    "collapsed": false
   }
  },
  {
   "cell_type": "code",
   "execution_count": 26,
   "outputs": [],
   "source": [
    "dataset = zad_1_b()"
   ],
   "metadata": {
    "collapsed": false,
    "pycharm": {
     "name": "#%%\n",
     "is_executing": false
    }
   }
  },
  {
   "cell_type": "markdown",
   "source": [
    "### epsilon = 0"
   ],
   "metadata": {
    "collapsed": false
   }
  },
  {
   "cell_type": "code",
   "execution_count": 27,
   "outputs": [],
   "source": [
    "epsilon = 0\n"
   ],
   "metadata": {
    "collapsed": false,
    "pycharm": {
     "name": "#%%\n",
     "is_executing": false
    }
   }
  },
  {
   "cell_type": "markdown",
   "source": [
    "#### wyznacznik 2x2"
   ],
   "metadata": {
    "collapsed": false
   }
  },
  {
   "cell_type": "code",
   "execution_count": 28,
   "outputs": [
    {
     "name": "stdout",
     "text": [
      "points left to the line = 49882\npoints on the line = 0\npoints tight to the line = 50118\n"
     ],
     "output_type": "stream"
    },
    {
     "data": {
      "text/plain": "<Figure size 432x288 with 1 Axes>",
      "image/png": "[encoded data removed]"
     },
     "metadata": {
      "needs_background": "light"
     },
     "output_type": "display_data"
    }
   ],
   "source": [
    "%matplotlib inline\n",
    "left = []\n",
    "on = []\n",
    "right = []\n",
    "for p in dataset:\n",
    "    if det_1(p, epsilon)>0:\n",
    "        left.append(p)\n",
    "    if det_1(p, epsilon)==0:\n",
    "        on.append(p)\n",
    "    if det_1(p, epsilon)<0:\n",
    "        right.append(p)\n",
    "print('points left to the line = ' + str(len(left)))\n",
    "print('points on the line = ' + str(len(on)))\n",
    "print('points tight to the line = ' + str(len(right)))\n",
    "plot = Plot([PointsCollection(left),PointsCollection(right),PointsCollection(on)])\n",
    "plot.draw()\n",
    "\n"
   ],
   "metadata": {
    "collapsed": false,
    "pycharm": {
     "name": "#%%\n",
     "is_executing": false
    }
   }
  },
  {
   "cell_type": "markdown",
   "source": [
    "#### wyznacznik 3x3"
   ],
   "metadata": {
    "collapsed": false
   }
  },
  {
   "cell_type": "code",
   "execution_count": 29,
   "outputs": [
    {
     "name": "stdout",
     "text": [
      "points left to the line = 99764\npoints on the line = 0\npoints tight to the line = 100236\n"
     ],
     "output_type": "stream"
    },
    {
     "data": {
      "text/plain": "<Figure size 432x288 with 1 Axes>",
      "image/png": "[encoded data removed]"
     },
     "metadata": {
      "needs_background": "light"
     },
     "output_type": "display_data"
    }
   ],
   "source": [
    "\n",
    "%matplotlib inline\n",
    "for p in dataset:\n",
    "    if det_1(p, epsilon)>0:\n",
    "        left.append(p)\n",
    "    if det_1(p, epsilon)==0:\n",
    "        on.append(p)\n",
    "    if det_1(p, epsilon)<0:\n",
    "        right.append(p)\n",
    "\n",
    "print('points left to the line = ' + str(len(left)))\n",
    "print('points on the line = ' + str(len(on)))\n",
    "print('points tight to the line = ' + str(len(right)))\n",
    "plot = Plot([PointsCollection(left),PointsCollection(right),PointsCollection(on)])\n",
    "plot.draw()"
   ],
   "metadata": {
    "collapsed": false,
    "pycharm": {
     "name": "#%%\n",
     "is_executing": false
    }
   }
  },
  {
   "cell_type": "markdown",
   "source": [
    "#### difference"
   ],
   "metadata": {
    "collapsed": false
   }
  },
  {
   "cell_type": "code",
   "execution_count": 30,
   "outputs": [
    {
     "name": "stdout",
     "text": [
      "points allocated differently = 8\n"
     ],
     "output_type": "stream"
    },
    {
     "data": {
      "text/plain": "<Figure size 432x288 with 1 Axes>",
      "image/png": "[encoded data removed]"
     },
     "metadata": {
      "needs_background": "light"
     },
     "output_type": "display_data"
    }
   ],
   "source": [
    "%matplotlib inline\n",
    "diff =  [x for x in dataset if det_1(x, epsilon)!=det_2(x,epsilon)]\n",
    "print('points allocated differently = ' + str(len(diff)))\n",
    "plot = Plot([PointsCollection(diff)])\n",
    "plot.draw()"
   ],
   "metadata": {
    "collapsed": false,
    "pycharm": {
     "name": "#%%\n",
     "is_executing": false
    }
   }
  },
  {
   "cell_type": "markdown",
   "source": [
    "### epsilon = 1"
   ],
   "metadata": {
    "collapsed": false
   }
  },
  {
   "cell_type": "code",
   "execution_count": 31,
   "outputs": [],
   "source": [
    "epsilon = 1\n"
   ],
   "metadata": {
    "collapsed": false,
    "pycharm": {
     "name": "#%%\n",
     "is_executing": false
    }
   }
  },
  {
   "cell_type": "markdown",
   "source": [
    "#### wyznacznik 2x2"
   ],
   "metadata": {
    "collapsed": false
   }
  },
  {
   "cell_type": "code",
   "execution_count": 32,
   "outputs": [
    {
     "name": "stdout",
     "text": [
      "points left to the line = 149646\npoints on the line = 0\npoints tight to the line = 150354\n"
     ],
     "output_type": "stream"
    },
    {
     "data": {
      "text/plain": "<Figure size 432x288 with 1 Axes>",
      "image/png": "[encoded data removed]"
     },
     "metadata": {
      "needs_background": "light"
     },
     "output_type": "display_data"
    }
   ],
   "source": [
    "%matplotlib inline\n",
    "for p in dataset:\n",
    "    if det_1(p, epsilon)>0:\n",
    "        left.append(p)\n",
    "    if det_1(p, epsilon)==0:\n",
    "        on.append(p)\n",
    "    if det_1(p, epsilon)<0:\n",
    "        right.append(p)\n",
    "\n",
    "print('points left to the line = ' + str(len(left)))\n",
    "print('points on the line = ' + str(len(on)))\n",
    "print('points tight to the line = ' + str(len(right)))\n",
    "plot = Plot([PointsCollection(left),PointsCollection(right),PointsCollection(on)])\n",
    "plot.draw()\n",
    "\n"
   ],
   "metadata": {
    "collapsed": false,
    "pycharm": {
     "name": "#%%\n",
     "is_executing": false
    }
   }
  },
  {
   "cell_type": "markdown",
   "source": [
    "#### wyznacznik 3x3"
   ],
   "metadata": {
    "collapsed": false
   }
  },
  {
   "cell_type": "code",
   "execution_count": 33,
   "outputs": [
    {
     "name": "stdout",
     "text": [
      "points left to the line = 199528\npoints on the line = 0\npoints tight to the line = 200472\n"
     ],
     "output_type": "stream"
    },
    {
     "data": {
      "text/plain": "<Figure size 432x288 with 1 Axes>",
      "image/png": "[encoded data removed]"
     },
     "metadata": {
      "needs_background": "light"
     },
     "output_type": "display_data"
    }
   ],
   "source": [
    "\n",
    "%matplotlib inline\n",
    "for p in dataset:\n",
    "    if det_1(p, epsilon)>0:\n",
    "        left.append(p)\n",
    "    if det_1(p, epsilon)==0:\n",
    "        on.append(p)\n",
    "    if det_1(p, epsilon)<0:\n",
    "        right.append(p)\n",
    "\n",
    "print('points left to the line = ' + str(len(left)))\n",
    "print('points on the line = ' + str(len(on)))\n",
    "print('points tight to the line = ' + str(len(right)))\n",
    "plot = Plot([PointsCollection(left),PointsCollection(right),PointsCollection(on)])\n",
    "plot.draw()"
   ],
   "metadata": {
    "collapsed": false,
    "pycharm": {
     "name": "#%%\n",
     "is_executing": false
    }
   }
  },
  {
   "cell_type": "markdown",
   "source": [
    "#### difference"
   ],
   "metadata": {
    "collapsed": false
   }
  },
  {
   "cell_type": "code",
   "execution_count": 34,
   "outputs": [
    {
     "name": "stdout",
     "text": [
      "points allocated differently = 8\n"
     ],
     "output_type": "stream"
    },
    {
     "data": {
      "text/plain": "<Figure size 432x288 with 1 Axes>",
      "image/png": "[encoded data removed]"
     },
     "metadata": {
      "needs_background": "light"
     },
     "output_type": "display_data"
    }
   ],
   "source": [
    "%matplotlib inline\n",
    "diff =  [x for x in dataset if det_1(x, epsilon)!=det_2(x,epsilon)]\n",
    "print('points allocated differently = ' + str(len(diff)))\n",
    "plot = Plot([PointsCollection(diff)])\n",
    "plot.draw()"
   ],
   "metadata": {
    "collapsed": false,
    "pycharm": {
     "name": "#%%\n",
     "is_executing": false
    }
   }
  },
  {
   "cell_type": "markdown",
   "source": [
    "### epsilon = 1^5"
   ],
   "metadata": {
    "collapsed": false
   }
  },
  {
   "cell_type": "code",
   "execution_count": 35,
   "outputs": [],
   "source": [
    "epsilon = pow(10, 5)\n"
   ],
   "metadata": {
    "collapsed": false,
    "pycharm": {
     "name": "#%%\n",
     "is_executing": false
    }
   }
  },
  {
   "cell_type": "markdown",
   "source": [
    "#### wyznacznik 2x2"
   ],
   "metadata": {
    "collapsed": false
   }
  },
  {
   "cell_type": "code",
   "execution_count": 36,
   "outputs": [
    {
     "name": "stdout",
     "text": [
      "points left to the line = 249410\npoints on the line = 0\npoints tight to the line = 250590\n"
     ],
     "output_type": "stream"
    },
    {
     "data": {
      "text/plain": "<Figure size 432x288 with 1 Axes>",
      "image/png": "[encoded data removed]"
     },
     "metadata": {
      "needs_background": "light"
     },
     "output_type": "display_data"
    }
   ],
   "source": [
    "%matplotlib inline\n",
    "for p in dataset:\n",
    "    if det_1(p, epsilon)>0:\n",
    "        left.append(p)\n",
    "    if det_1(p, epsilon)==0:\n",
    "        on.append(p)\n",
    "    if det_1(p, epsilon)<0:\n",
    "        right.append(p)\n",
    "\n",
    "print('points left to the line = ' + str(len(left)))\n",
    "print('points on the line = ' + str(len(on)))\n",
    "print('points tight to the line = ' + str(len(right)))\n",
    "plot = Plot([PointsCollection(left),PointsCollection(right),PointsCollection(on)])\n",
    "plot.draw()\n",
    "\n"
   ],
   "metadata": {
    "collapsed": false,
    "pycharm": {
     "name": "#%%\n",
     "is_executing": false
    }
   }
  },
  {
   "cell_type": "markdown",
   "source": [
    "#### wyznacznik 3x3"
   ],
   "metadata": {
    "collapsed": false
   }
  },
  {
   "cell_type": "code",
   "execution_count": null,
   "outputs": [
    {
     "name": "stdout",
     "text": [
      "points left to the line = 299292\npoints on the line = 0\npoints tight to the line = 300708\n"
     ],
     "output_type": "stream"
    }
   ],
   "source": [
    "\n",
    "%matplotlib inline\n",
    "for p in dataset:\n",
    "    if det_1(p, epsilon)>0:\n",
    "        left.append(p)\n",
    "    if det_1(p, epsilon)==0:\n",
    "        on.append(p)\n",
    "    if det_1(p, epsilon)<0:\n",
    "        right.append(p)\n",
    "\n",
    "print('points left to the line = ' + str(len(left)))\n",
    "print('points on the line = ' + str(len(on)))\n",
    "print('points tight to the line = ' + str(len(right)))\n",
    "plot = Plot([PointsCollection(left),PointsCollection(right),PointsCollection(on)])\n",
    "plot.draw()"
   ],
   "metadata": {
    "collapsed": false,
    "pycharm": {
     "name": "#%%\n",
     "is_executing": true
    }
   }
  },
  {
   "cell_type": "markdown",
   "source": [
    "#### difference"
   ],
   "metadata": {
    "collapsed": false
   }
  },
  {
   "cell_type": "code",
   "execution_count": null,
   "outputs": [],
   "source": [
    "%matplotlib inline\n",
    "diff =  [x for x in dataset if det_1(x, epsilon)!=det_2(x,epsilon)]\n",
    "print('points allocated differently = ' + str(len(diff)))\n",
    "plot = Plot([PointsCollection(diff)])\n",
    "plot.draw()"
   ],
   "metadata": {
    "collapsed": false,
    "pycharm": {
     "name": "#%%\n",
     "is_executing": true
    }
   }
  },
  {
   "cell_type": "markdown",
   "source": [
    "### epsilon = 10^12"
   ],
   "metadata": {
    "collapsed": false
   }
  },
  {
   "cell_type": "code",
   "execution_count": null,
   "outputs": [],
   "source": [
    "epsilon = pow(10,12)\n"
   ],
   "metadata": {
    "collapsed": false,
    "pycharm": {
     "name": "#%%\n",
     "is_executing": true
    }
   }
  },
  {
   "cell_type": "markdown",
   "source": [
    "#### wyznacznik 2x2"
   ],
   "metadata": {
    "collapsed": false
   }
  },
  {
   "cell_type": "code",
   "execution_count": null,
   "outputs": [],
   "source": [
    "%matplotlib inline\n",
    "for p in dataset:\n",
    "    if det_1(p, epsilon)>0:\n",
    "        left.append(p)\n",
    "    if det_1(p, epsilon)==0:\n",
    "        on.append(p)\n",
    "    if det_1(p, epsilon)<0:\n",
    "        right.append(p)\n",
    "\n",
    "print('points left to the line = ' + str(len(left)))\n",
    "print('points on the line = ' + str(len(on)))\n",
    "print('points tight to the line = ' + str(len(right)))\n",
    "plot = Plot([PointsCollection(left),PointsCollection(right),PointsCollection(on)])\n",
    "plot.draw()\n",
    "\n"
   ],
   "metadata": {
    "collapsed": false,
    "pycharm": {
     "name": "#%%\n",
     "is_executing": true
    }
   }
  },
  {
   "cell_type": "markdown",
   "source": [
    "#### wyznacznik 3x3"
   ],
   "metadata": {
    "collapsed": false
   }
  },
  {
   "cell_type": "code",
   "execution_count": null,
   "outputs": [],
   "source": [
    "\n",
    "%matplotlib inline\n",
    "for p in dataset:\n",
    "    if det_1(p, epsilon)>0:\n",
    "        left.append(p)\n",
    "    if det_1(p, epsilon)==0:\n",
    "        on.append(p)\n",
    "    if det_1(p, epsilon)<0:\n",
    "        right.append(p)\n",
    "\n",
    "print('points left to the line = ' + str(len(left)))\n",
    "print('points on the line = ' + str(len(on)))\n",
    "print('points tight to the line = ' + str(len(right)))\n",
    "plot = Plot([PointsCollection(left),PointsCollection(right),PointsCollection(on)])\n",
    "plot.draw()"
   ],
   "metadata": {
    "collapsed": false,
    "pycharm": {
     "name": "#%%\n",
     "is_executing": true
    }
   }
  },
  {
   "cell_type": "markdown",
   "source": [
    "#### difference"
   ],
   "metadata": {
    "collapsed": false
   }
  },
  {
   "cell_type": "code",
   "execution_count": null,
   "outputs": [],
   "source": [
    "%matplotlib inline\n",
    "diff =  [x for x in dataset if det_1(x, epsilon)!=det_2(x,epsilon)]\n",
    "print('points allocated differently = ' + str(len(diff)))\n",
    "plot = Plot([PointsCollection(diff)])\n",
    "plot.draw()"
   ],
   "metadata": {
    "collapsed": false,
    "pycharm": {
     "name": "#%%\n",
     "is_executing": true
    }
   }
  },
  {
   "cell_type": "markdown",
   "source": [
    "## dataset 3"
   ],
   "metadata": {
    "collapsed": false
   }
  },
  {
   "cell_type": "code",
   "execution_count": null,
   "outputs": [],
   "source": [
    "dataset = zad_1_c()"
   ],
   "metadata": {
    "collapsed": false,
    "pycharm": {
     "name": "#%%\n",
     "is_executing": true
    }
   }
  },
  {
   "cell_type": "markdown",
   "source": [
    "### epsilon = 0"
   ],
   "metadata": {
    "collapsed": false
   }
  },
  {
   "cell_type": "code",
   "execution_count": null,
   "outputs": [],
   "source": [
    "epsilon = 0\n"
   ],
   "metadata": {
    "collapsed": false,
    "pycharm": {
     "name": "#%%\n",
     "is_executing": true
    }
   }
  },
  {
   "cell_type": "markdown",
   "source": [
    "#### wyznacznik 2x2"
   ],
   "metadata": {
    "collapsed": false
   }
  },
  {
   "cell_type": "code",
   "execution_count": null,
   "outputs": [],
   "source": [
    "%matplotlib inline\n",
    "left = []\n",
    "on = []\n",
    "right = []\n",
    "for p in dataset:\n",
    "    if det_1(p, epsilon)>0:\n",
    "        left.append(p)\n",
    "    if det_1(p, epsilon)==0:\n",
    "        on.append(p)\n",
    "    if det_1(p, epsilon)<0:\n",
    "        right.append(p)\n",
    "print('points left to the line = ' + str(len(left)))\n",
    "print('points on the line = ' + str(len(on)))\n",
    "print('points tight to the line = ' + str(len(right)))\n",
    "plot = Plot([PointsCollection(left),PointsCollection(right),PointsCollection(on)])\n",
    "plot.draw()\n",
    "\n"
   ],
   "metadata": {
    "collapsed": false,
    "pycharm": {
     "name": "#%%\n",
     "is_executing": true
    }
   }
  },
  {
   "cell_type": "markdown",
   "source": [
    "#### wyznacznik 3x3"
   ],
   "metadata": {
    "collapsed": false
   }
  },
  {
   "cell_type": "code",
   "execution_count": null,
   "outputs": [],
   "source": [
    "\n",
    "%matplotlib inline\n",
    "for p in dataset:\n",
    "    if det_1(p, epsilon)>0:\n",
    "        left.append(p)\n",
    "    if det_1(p, epsilon)==0:\n",
    "        on.append(p)\n",
    "    if det_1(p, epsilon)<0:\n",
    "        right.append(p)\n",
    "\n",
    "print('points left to the line = ' + str(len(left)))\n",
    "print('points on the line = ' + str(len(on)))\n",
    "print('points tight to the line = ' + str(len(right)))\n",
    "plot = Plot([PointsCollection(left),PointsCollection(right),PointsCollection(on)])\n",
    "plot.draw()"
   ],
   "metadata": {
    "collapsed": false,
    "pycharm": {
     "name": "#%%\n",
     "is_executing": true
    }
   }
  },
  {
   "cell_type": "markdown",
   "source": [
    "#### difference"
   ],
   "metadata": {
    "collapsed": false
   }
  },
  {
   "cell_type": "code",
   "execution_count": null,
   "outputs": [],
   "source": [
    "%matplotlib inline\n",
    "diff =  [x for x in dataset if det_1(x, epsilon)!=det_2(x,epsilon)]\n",
    "print('points allocated differently = ' + str(len(diff)))\n",
    "plot = Plot([PointsCollection(diff)])\n",
    "plot.draw()"
   ],
   "metadata": {
    "collapsed": false,
    "pycharm": {
     "name": "#%%\n",
     "is_executing": true
    }
   }
  },
  {
   "cell_type": "markdown",
   "source": [
    "### epsilon = 0.1"
   ],
   "metadata": {
    "collapsed": false
   }
  },
  {
   "cell_type": "code",
   "execution_count": null,
   "outputs": [],
   "source": [
    "epsilon = 0.1\n"
   ],
   "metadata": {
    "collapsed": false,
    "pycharm": {
     "name": "#%%\n",
     "is_executing": true
    }
   }
  },
  {
   "cell_type": "markdown",
   "source": [
    "#### wyznacznik 2x2"
   ],
   "metadata": {
    "collapsed": false
   }
  },
  {
   "cell_type": "code",
   "execution_count": null,
   "outputs": [],
   "source": [
    "%matplotlib inline\n",
    "for p in dataset:\n",
    "    if det_1(p, epsilon)>0:\n",
    "        left.append(p)\n",
    "    if det_1(p, epsilon)==0:\n",
    "        on.append(p)\n",
    "    if det_1(p, epsilon)<0:\n",
    "        right.append(p)\n",
    "\n",
    "print('points left to the line = ' + str(len(left)))\n",
    "print('points on the line = ' + str(len(on)))\n",
    "print('points tight to the line = ' + str(len(right)))\n",
    "plot = Plot([PointsCollection(left),PointsCollection(right),PointsCollection(on)])\n",
    "plot.draw()\n",
    "\n"
   ],
   "metadata": {
    "collapsed": false,
    "pycharm": {
     "name": "#%%\n",
     "is_executing": true
    }
   }
  },
  {
   "cell_type": "markdown",
   "source": [
    "#### wyznacznik 3x3"
   ],
   "metadata": {
    "collapsed": false
   }
  },
  {
   "cell_type": "code",
   "execution_count": null,
   "outputs": [],
   "source": [
    "\n",
    "%matplotlib inline\n",
    "for p in dataset:\n",
    "    if det_1(p, epsilon)>0:\n",
    "        left.append(p)\n",
    "    if det_1(p, epsilon)==0:\n",
    "        on.append(p)\n",
    "    if det_1(p, epsilon)<0:\n",
    "        right.append(p)\n",
    "\n",
    "print('points left to the line = ' + str(len(left)))\n",
    "print('points on the line = ' + str(len(on)))\n",
    "print('points tight to the line = ' + str(len(right)))\n",
    "plot = Plot([PointsCollection(left),PointsCollection(right),PointsCollection(on)])\n",
    "plot.draw()"
   ],
   "metadata": {
    "collapsed": false,
    "pycharm": {
     "name": "#%%\n",
     "is_executing": true
    }
   }
  },
  {
   "cell_type": "markdown",
   "source": [
    "#### difference"
   ],
   "metadata": {
    "collapsed": false
   }
  },
  {
   "cell_type": "code",
   "execution_count": null,
   "outputs": [],
   "source": [
    "%matplotlib inline\n",
    "diff =  [x for x in dataset if det_1(x, epsilon)!=det_2(x,epsilon)]\n",
    "print('points allocated differently = ' + str(len(diff)))\n",
    "plot = Plot([PointsCollection(diff)])\n",
    "plot.draw()"
   ],
   "metadata": {
    "collapsed": false,
    "pycharm": {
     "name": "#%%\n",
     "is_executing": true
    }
   }
  },
  {
   "cell_type": "markdown",
   "source": [
    "### epsilon = 1"
   ],
   "metadata": {
    "collapsed": false
   }
  },
  {
   "cell_type": "code",
   "execution_count": null,
   "outputs": [],
   "source": [
    "epsilon = 1\n"
   ],
   "metadata": {
    "collapsed": false,
    "pycharm": {
     "name": "#%%\n",
     "is_executing": true
    }
   }
  },
  {
   "cell_type": "markdown",
   "source": [
    "#### wyznacznik 2x2"
   ],
   "metadata": {
    "collapsed": false
   }
  },
  {
   "cell_type": "code",
   "execution_count": null,
   "outputs": [],
   "source": [
    "%matplotlib inline\n",
    "for p in dataset:\n",
    "    if det_1(p, epsilon)>0:\n",
    "        left.append(p)\n",
    "    if det_1(p, epsilon)==0:\n",
    "        on.append(p)\n",
    "    if det_1(p, epsilon)<0:\n",
    "        right.append(p)\n",
    "\n",
    "print('points left to the line = ' + str(len(left)))\n",
    "print('points on the line = ' + str(len(on)))\n",
    "print('points tight to the line = ' + str(len(right)))\n",
    "plot = Plot([PointsCollection(left),PointsCollection(right),PointsCollection(on)])\n",
    "plot.draw()\n",
    "\n"
   ],
   "metadata": {
    "collapsed": false,
    "pycharm": {
     "name": "#%%\n",
     "is_executing": true
    }
   }
  },
  {
   "cell_type": "markdown",
   "source": [
    "#### wyznacznik 3x3"
   ],
   "metadata": {
    "collapsed": false
   }
  },
  {
   "cell_type": "code",
   "execution_count": null,
   "outputs": [],
   "source": [
    "\n",
    "%matplotlib inline\n",
    "for p in dataset:\n",
    "    if det_1(p, epsilon)>0:\n",
    "        left.append(p)\n",
    "    if det_1(p, epsilon)==0:\n",
    "        on.append(p)\n",
    "    if det_1(p, epsilon)<0:\n",
    "        right.append(p)\n",
    "\n",
    "print('points left to the line = ' + str(len(left)))\n",
    "print('points on the line = ' + str(len(on)))\n",
    "print('points tight to the line = ' + str(len(right)))\n",
    "plot = Plot([PointsCollection(left),PointsCollection(right),PointsCollection(on)])\n",
    "plot.draw()"
   ],
   "metadata": {
    "collapsed": false,
    "pycharm": {
     "name": "#%%\n",
     "is_executing": true
    }
   }
  },
  {
   "cell_type": "markdown",
   "source": [
    "#### difference"
   ],
   "metadata": {
    "collapsed": false
   }
  },
  {
   "cell_type": "code",
   "execution_count": null,
   "outputs": [],
   "source": [
    "%matplotlib inline\n",
    "diff =  [x for x in dataset if det_1(x, epsilon)!=det_2(x,epsilon)]\n",
    "print('points allocated differently = ' + str(len(diff)))\n",
    "plot = Plot([PointsCollection(diff)])\n",
    "plot.draw()"
   ],
   "metadata": {
    "collapsed": false,
    "pycharm": {
     "name": "#%%\n",
     "is_executing": true
    }
   }
  },
  {
   "cell_type": "markdown",
   "source": [
    "### epsilon = 10"
   ],
   "metadata": {
    "collapsed": false
   }
  },
  {
   "cell_type": "code",
   "execution_count": null,
   "outputs": [],
   "source": [
    "epsilon = 10\n"
   ],
   "metadata": {
    "collapsed": false,
    "pycharm": {
     "name": "#%%\n",
     "is_executing": true
    }
   }
  },
  {
   "cell_type": "markdown",
   "source": [
    "#### wyznacznik 2x2"
   ],
   "metadata": {
    "collapsed": false
   }
  },
  {
   "cell_type": "code",
   "execution_count": null,
   "outputs": [],
   "source": [
    "%matplotlib inline\n",
    "for p in dataset:\n",
    "    if det_1(p, epsilon)>0:\n",
    "        left.append(p)\n",
    "    if det_1(p, epsilon)==0:\n",
    "        on.append(p)\n",
    "    if det_1(p, epsilon)<0:\n",
    "        right.append(p)\n",
    "\n",
    "print('points left to the line = ' + str(len(left)))\n",
    "print('points on the line = ' + str(len(on)))\n",
    "print('points tight to the line = ' + str(len(right)))\n",
    "plot = Plot([PointsCollection(left),PointsCollection(right),PointsCollection(on)])\n",
    "plot.draw()\n",
    "\n"
   ],
   "metadata": {
    "collapsed": false,
    "pycharm": {
     "name": "#%%\n",
     "is_executing": true
    }
   }
  },
  {
   "cell_type": "markdown",
   "source": [
    "#### wyznacznik 3x3"
   ],
   "metadata": {
    "collapsed": false
   }
  },
  {
   "cell_type": "code",
   "execution_count": null,
   "outputs": [],
   "source": [
    "\n",
    "%matplotlib inline\n",
    "for p in dataset:\n",
    "    if det_1(p, epsilon)>0:\n",
    "        left.append(p)\n",
    "    if det_1(p, epsilon)==0:\n",
    "        on.append(p)\n",
    "    if det_1(p, epsilon)<0:\n",
    "        right.append(p)\n",
    "\n",
    "print('points left to the line = ' + str(len(left)))\n",
    "print('points on the line = ' + str(len(on)))\n",
    "print('points tight to the line = ' + str(len(right)))\n",
    "plot = Plot([PointsCollection(left),PointsCollection(right),PointsCollection(on)])\n",
    "plot.draw()"
   ],
   "metadata": {
    "collapsed": false,
    "pycharm": {
     "name": "#%%\n",
     "is_executing": true
    }
   }
  },
  {
   "cell_type": "markdown",
   "source": [
    "#### difference"
   ],
   "metadata": {
    "collapsed": false
   }
  },
  {
   "cell_type": "code",
   "execution_count": null,
   "outputs": [],
   "source": [
    "%matplotlib inline\n",
    "diff =  [x for x in dataset if det_1(x, epsilon)!=det_2(x,epsilon)]\n",
    "print('points allocated differently = ' + str(len(diff)))\n",
    "plot = Plot([PointsCollection(diff)])\n",
    "plot.draw()"
   ],
   "metadata": {
    "collapsed": false,
    "pycharm": {
     "name": "#%%\n",
     "is_executing": true
    }
   }
  },
  {
   "cell_type": "markdown",
   "source": [
    "## dataset 4"
   ],
   "metadata": {
    "collapsed": false
   }
  },
  {
   "cell_type": "code",
   "execution_count": null,
   "outputs": [],
   "source": [
    "dataset = zad_1_d()"
   ],
   "metadata": {
    "collapsed": false,
    "pycharm": {
     "name": "#%%\n",
     "is_executing": true
    }
   }
  },
  {
   "cell_type": "markdown",
   "source": [
    "### epsilon = 0"
   ],
   "metadata": {
    "collapsed": false
   }
  },
  {
   "cell_type": "code",
   "execution_count": null,
   "outputs": [],
   "source": [
    "epsilon = 0\n"
   ],
   "metadata": {
    "collapsed": false,
    "pycharm": {
     "name": "#%%\n",
     "is_executing": true
    }
   }
  },
  {
   "cell_type": "markdown",
   "source": [
    "#### wyznacznik 2x2"
   ],
   "metadata": {
    "collapsed": false
   }
  },
  {
   "cell_type": "code",
   "execution_count": null,
   "outputs": [],
   "source": [
    "%matplotlib inline\n",
    "left = []\n",
    "on = []\n",
    "right = []\n",
    "for p in dataset:\n",
    "    if det_1(p, epsilon)>0:\n",
    "        left.append(p)\n",
    "    if det_1(p, epsilon)==0:\n",
    "        on.append(p)\n",
    "    if det_1(p, epsilon)<0:\n",
    "        right.append(p)\n",
    "print('points left to the line = ' + str(len(left)))\n",
    "print('points on the line = ' + str(len(on)))\n",
    "print('points tight to the line = ' + str(len(right)))\n",
    "plot = Plot([PointsCollection(left),PointsCollection(right),PointsCollection(on)])\n",
    "plot.draw()\n",
    "\n"
   ],
   "metadata": {
    "collapsed": false,
    "pycharm": {
     "name": "#%%\n",
     "is_executing": true
    }
   }
  },
  {
   "cell_type": "markdown",
   "source": [
    "#### wyznacznik 3x3"
   ],
   "metadata": {
    "collapsed": false
   }
  },
  {
   "cell_type": "code",
   "execution_count": null,
   "outputs": [],
   "source": [
    "\n",
    "%matplotlib inline\n",
    "for p in dataset:\n",
    "    if det_1(p, epsilon)>0:\n",
    "        left.append(p)\n",
    "    if det_1(p, epsilon)==0:\n",
    "        on.append(p)\n",
    "    if det_1(p, epsilon)<0:\n",
    "        right.append(p)\n",
    "\n",
    "print('points left to the line = ' + str(len(left)))\n",
    "print('points on the line = ' + str(len(on)))\n",
    "print('points tight to the line = ' + str(len(right)))\n",
    "plot = Plot([PointsCollection(left),PointsCollection(right),PointsCollection(on)])\n",
    "plot.draw()"
   ],
   "metadata": {
    "collapsed": false,
    "pycharm": {
     "name": "#%%\n",
     "is_executing": true
    }
   }
  },
  {
   "cell_type": "markdown",
   "source": [
    "#### difference"
   ],
   "metadata": {
    "collapsed": false
   }
  },
  {
   "cell_type": "code",
   "execution_count": null,
   "outputs": [],
   "source": [
    "%matplotlib inline\n",
    "diff =  [x for x in dataset if det_1(x, epsilon)!=det_2(x,epsilon)]\n",
    "print('points allocated differently = ' + str(len(diff)))\n",
    "plot = Plot([PointsCollection(diff)])\n",
    "plot.draw()"
   ],
   "metadata": {
    "collapsed": false,
    "pycharm": {
     "name": "#%%\n",
     "is_executing": true
    }
   }
  },
  {
   "cell_type": "markdown",
   "source": [
    "### epsilon = 10^-5"
   ],
   "metadata": {
    "collapsed": false
   }
  },
  {
   "cell_type": "code",
   "execution_count": null,
   "outputs": [],
   "source": [
    "epsilon = pow(10, -5)\n"
   ],
   "metadata": {
    "collapsed": false,
    "pycharm": {
     "name": "#%%\n",
     "is_executing": true
    }
   }
  },
  {
   "cell_type": "markdown",
   "source": [
    "#### wyznacznik 2x2"
   ],
   "metadata": {
    "collapsed": false
   }
  },
  {
   "cell_type": "code",
   "execution_count": null,
   "outputs": [],
   "source": [
    "%matplotlib inline\n",
    "for p in dataset:\n",
    "    if det_1(p, epsilon)>0:\n",
    "        left.append(p)\n",
    "    if det_1(p, epsilon)==0:\n",
    "        on.append(p)\n",
    "    if det_1(p, epsilon)<0:\n",
    "        right.append(p)\n",
    "\n",
    "print('points left to the line = ' + str(len(left)))\n",
    "print('points on the line = ' + str(len(on)))\n",
    "print('points tight to the line = ' + str(len(right)))\n",
    "plot = Plot([PointsCollection(left),PointsCollection(right),PointsCollection(on)])\n",
    "plot.draw()\n",
    "\n"
   ],
   "metadata": {
    "collapsed": false,
    "pycharm": {
     "name": "#%%\n",
     "is_executing": true
    }
   }
  },
  {
   "cell_type": "markdown",
   "source": [
    "#### wyznacznik 3x3"
   ],
   "metadata": {
    "collapsed": false
   }
  },
  {
   "cell_type": "code",
   "execution_count": null,
   "outputs": [],
   "source": [
    "\n",
    "%matplotlib inline\n",
    "for p in dataset:\n",
    "    if det_1(p, epsilon)>0:\n",
    "        left.append(p)\n",
    "    if det_1(p, epsilon)==0:\n",
    "        on.append(p)\n",
    "    if det_1(p, epsilon)<0:\n",
    "        right.append(p)\n",
    "\n",
    "print('points left to the line = ' + str(len(left)))\n",
    "print('points on the line = ' + str(len(on)))\n",
    "print('points tight to the line = ' + str(len(right)))\n",
    "plot = Plot([PointsCollection(left),PointsCollection(right),PointsCollection(on)])\n",
    "plot.draw()"
   ],
   "metadata": {
    "collapsed": false,
    "pycharm": {
     "name": "#%%\n",
     "is_executing": true
    }
   }
  },
  {
   "cell_type": "markdown",
   "source": [
    "#### difference"
   ],
   "metadata": {
    "collapsed": false
   }
  },
  {
   "cell_type": "code",
   "execution_count": null,
   "outputs": [],
   "source": [
    "%matplotlib inline\n",
    "diff =  [x for x in dataset if det_1(x, epsilon)!=det_2(x,epsilon)]\n",
    "print('points allocated differently = ' + str(len(diff)))\n",
    "plot = Plot([PointsCollection(diff)])\n",
    "plot.draw()"
   ],
   "metadata": {
    "collapsed": false,
    "pycharm": {
     "name": "#%%\n",
     "is_executing": true
    }
   }
  },
  {
   "cell_type": "markdown",
   "source": [
    "### epsilon = 10^-12"
   ],
   "metadata": {
    "collapsed": false
   }
  },
  {
   "cell_type": "code",
   "execution_count": null,
   "outputs": [],
   "source": [
    "epsilon = pow(10, -12)\n"
   ],
   "metadata": {
    "collapsed": false,
    "pycharm": {
     "name": "#%%\n",
     "is_executing": true
    }
   }
  },
  {
   "cell_type": "markdown",
   "source": [
    "#### wyznacznik 2x2"
   ],
   "metadata": {
    "collapsed": false
   }
  },
  {
   "cell_type": "code",
   "execution_count": null,
   "outputs": [],
   "source": [
    "%matplotlib inline\n",
    "for p in dataset:\n",
    "    if det_1(p, epsilon)>0:\n",
    "        left.append(p)\n",
    "    if det_1(p, epsilon)==0:\n",
    "        on.append(p)\n",
    "    if det_1(p, epsilon)<0:\n",
    "        right.append(p)\n",
    "\n",
    "print('points left to the line = ' + str(len(left)))\n",
    "print('points on the line = ' + str(len(on)))\n",
    "print('points tight to the line = ' + str(len(right)))\n",
    "plot = Plot([PointsCollection(left),PointsCollection(right),PointsCollection(on)])\n",
    "plot.draw()\n",
    "\n"
   ],
   "metadata": {
    "collapsed": false,
    "pycharm": {
     "name": "#%%\n",
     "is_executing": true
    }
   }
  },
  {
   "cell_type": "markdown",
   "source": [
    "#### wyznacznik 3x3"
   ],
   "metadata": {
    "collapsed": false
   }
  },
  {
   "cell_type": "code",
   "execution_count": null,
   "outputs": [],
   "source": [
    "\n",
    "%matplotlib inline\n",
    "for p in dataset:\n",
    "    if det_1(p, epsilon)>0:\n",
    "        left.append(p)\n",
    "    if det_1(p, epsilon)==0:\n",
    "        on.append(p)\n",
    "    if det_1(p, epsilon)<0:\n",
    "        right.append(p)\n",
    "\n",
    "print('points left to the line = ' + str(len(left)))\n",
    "print('points on the line = ' + str(len(on)))\n",
    "print('points tight to the line = ' + str(len(right)))\n",
    "plot = Plot([PointsCollection(left),PointsCollection(right),PointsCollection(on)])\n",
    "plot.draw()"
   ],
   "metadata": {
    "collapsed": false,
    "pycharm": {
     "name": "#%%\n",
     "is_executing": true
    }
   }
  },
  {
   "cell_type": "markdown",
   "source": [
    "#### difference"
   ],
   "metadata": {
    "collapsed": false
   }
  },
  {
   "cell_type": "code",
   "execution_count": null,
   "outputs": [],
   "source": [
    "%matplotlib inline\n",
    "diff =  [x for x in dataset if det_1(x, epsilon)!=det_2(x,epsilon)]\n",
    "print('points allocated differently = ' + str(len(diff)))\n",
    "plot = Plot([PointsCollection(diff)])\n",
    "plot.draw()"
   ],
   "metadata": {
    "collapsed": false,
    "pycharm": {
     "name": "#%%\n",
     "is_executing": true
    }
   }
  },
  {
   "cell_type": "markdown",
   "source": [
    "### epsilon = 10^-15"
   ],
   "metadata": {
    "collapsed": false
   }
  },
  {
   "cell_type": "code",
   "execution_count": null,
   "outputs": [],
   "source": [
    "epsilon = pow(10, -15)\n"
   ],
   "metadata": {
    "collapsed": false,
    "pycharm": {
     "name": "#%%\n",
     "is_executing": true
    }
   }
  },
  {
   "cell_type": "markdown",
   "source": [
    "#### wyznacznik 2x2"
   ],
   "metadata": {
    "collapsed": false
   }
  },
  {
   "cell_type": "code",
   "execution_count": null,
   "outputs": [],
   "source": [
    "%matplotlib inline\n",
    "for p in dataset:\n",
    "    if det_1(p, epsilon)>0:\n",
    "        left.append(p)\n",
    "    if det_1(p, epsilon)==0:\n",
    "        on.append(p)\n",
    "    if det_1(p, epsilon)<0:\n",
    "        right.append(p)\n",
    "\n",
    "print('points left to the line = ' + str(len(left)))\n",
    "print('points on the line = ' + str(len(on)))\n",
    "print('points tight to the line = ' + str(len(right)))\n",
    "plot = Plot([PointsCollection(left),PointsCollection(right),PointsCollection(on)])\n",
    "plot.draw()\n",
    "\n"
   ],
   "metadata": {
    "collapsed": false,
    "pycharm": {
     "name": "#%%\n",
     "is_executing": true
    }
   }
  },
  {
   "cell_type": "markdown",
   "source": [
    "#### wyznacznik 3x3"
   ],
   "metadata": {
    "collapsed": false
   }
  },
  {
   "cell_type": "code",
   "execution_count": null,
   "outputs": [],
   "source": [
    "\n",
    "%matplotlib inline\n",
    "for p in dataset:\n",
    "    if det_1(p, epsilon)>0:\n",
    "        left.append(p)\n",
    "    if det_1(p, epsilon)==0:\n",
    "        on.append(p)\n",
    "    if det_1(p, epsilon)<0:\n",
    "        right.append(p)\n",
    "\n",
    "print('points left to the line = ' + str(len(left)))\n",
    "print('points on the line = ' + str(len(on)))\n",
    "print('points tight to the line = ' + str(len(right)))\n",
    "plot = Plot([PointsCollection(left),PointsCollection(right),PointsCollection(on)])\n",
    "plot.draw()"
   ],
   "metadata": {
    "collapsed": false,
    "pycharm": {
     "name": "#%%\n",
     "is_executing": true
    }
   }
  },
  {
   "cell_type": "markdown",
   "source": [
    "#### difference"
   ],
   "metadata": {
    "collapsed": false
   }
  },
  {
   "cell_type": "code",
   "execution_count": null,
   "outputs": [],
   "source": [
    "%matplotlib inline\n",
    "diff =  [x for x in dataset if det_1(x, epsilon)!=det_2(x,epsilon)]\n",
    "print('points allocated differently = ' + str(len(diff)))\n",
    "plot = Plot([PointsCollection(diff)])\n",
    "plot.draw()"
   ],
   "metadata": {
    "collapsed": false,
    "pycharm": {
     "name": "#%%\n",
     "is_executing": true
    }
   }
  }
 ],
 "metadata": {
  "kernelspec": {
   "display_name": "Python 3",
   "language": "python",
   "name": "python3"
  },
  "language_info": {
   "codemirror_mode": {
    "name": "ipython",
    "version": 3
   },
   "file_extension": ".py",
   "mimetype": "text/x-python",
   "name": "python",
   "nbconvert_exporter": "python",
   "pygments_lexer": "ipython3",
   "version": "3.7.4"
  },
  "pycharm": {
   "stem_cell": {
    "cell_type": "raw",
    "source": [],
    "metadata": {
     "collapsed": false
    }
   }
  }
 },
 "nbformat": 4,
 "nbformat_minor": 1
}