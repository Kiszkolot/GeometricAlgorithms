{
 "cells": [
  {
   "cell_type": "markdown",
   "metadata": {
    "collapsed": true
   },
   "source": [
    "# Laboratorium 2\n"
   ]
  },
  {
   "cell_type": "markdown",
   "metadata": {},
   "source": [
    "### Konfiguracja"
   ]
  },
  {
   "cell_type": "code",
   "execution_count": 18,
   "metadata": {
    "pycharm": {
     "is_executing": false
    }
   },
   "outputs": [],
   "source": [
    "import functools\n",
    "import random\n",
    "import time\n",
    "import numpy as np\n",
    "import matplotlib.pyplot as plt\n",
    "import matplotlib.collections as mcoll\n",
    "import matplotlib.colors as mcolors\n",
    "from matplotlib.widgets import Button\n",
    "import json as js\n",
    "\n",
    "class _Button_callback(object):\n",
    "    def __init__(self, scenes):\n",
    "        self.i = 0\n",
    "        self.scenes = scenes\n",
    "\n",
    "    def set_axis(self, ax):\n",
    "        self.ax = ax\n",
    "        \n",
    "    def next(self, event):\n",
    "        self.i = (self.i + 1) % len(scenes)\n",
    "        self.draw()\n",
    "\n",
    "    def prev(self, event):\n",
    "        self.i = (self.i - 1) % len(scenes)\n",
    "        self.draw()\n",
    "        \n",
    "    def draw(self):\n",
    "        self.ax.clear()\n",
    "        for collection in self.scenes[self.i].points:\n",
    "            if len(collection.points) > 0:\n",
    "                self.ax.scatter(*zip(*(np.array(collection.points))), c=collection.color, marker=collection.marker)\n",
    "        for collection in self.scenes[self.i].lines:\n",
    "            self.ax.add_collection(collection.get_collection())\n",
    "        self.ax.autoscale()\n",
    "        plt.draw()"
   ]
  },
  {
   "cell_type": "markdown",
   "metadata": {},
   "source": [
    "### Interfejsy\n",
    "\n",
    "[Dostępne kolory](https://matplotlib.org/3.1.1/gallery/color/named_colors.html)\n",
    "\n",
    "[Dostępne znaczniki punktów](https://matplotlib.org/3.1.1/api/markers_api.html#module-matplotlib.markers)"
   ]
  },
  {
   "cell_type": "code",
   "execution_count": 19,
   "metadata": {
    "pycharm": {
     "is_executing": false
    }
   },
   "outputs": [],
   "source": [
    "class Scene:\n",
    "    def __init__(self, points=[], lines=[]):\n",
    "        self.points=points\n",
    "        self.lines=lines\n",
    "\n",
    "class PointsCollection:\n",
    "    def __init__(self, points = [], color = None, marker = None):\n",
    "        self.points = np.array(points)\n",
    "        self.color = color\n",
    "        self.marker = marker\n",
    "\n",
    "class LinesCollection:\n",
    "    def __init__(self, lines = [], color = None):\n",
    "        self.color = color\n",
    "        self.lines = lines\n",
    "        \n",
    "    def add(self, line):\n",
    "        self.lines.append(line)\n",
    "        \n",
    "    def get_collection(self):\n",
    "        if self.color:\n",
    "            return mcoll.LineCollection(self.lines, colors=mcolors.to_rgba(self.color))\n",
    "        else:\n",
    "            return mcoll.LineCollection(self.lines)\n",
    "            \n",
    "\n",
    "\n",
    "class Plot:\n",
    "    def __init__(self, scenes = [], json = None):\n",
    "        if json is None:\n",
    "            self.scenes = scenes\n",
    "        else:\n",
    "            self.scenes = [Scene([PointsCollection(pointsCol) for pointsCol in scene[\"points\"]], \n",
    "                                 [LinesCollection(linesCol) for linesCol in scene[\"lines\"]]) \n",
    "                           for scene in js.loads(json)]\n",
    "        \n",
    "    def __configure_buttons(self, callback):\n",
    "        plt.subplots_adjust(bottom=0.2)\n",
    "        axprev = plt.axes([0.6, 0.05, 0.15, 0.075])\n",
    "        axnext = plt.axes([0.76, 0.05, 0.15, 0.075])\n",
    "        bnext = Button(axnext, 'Następny')\n",
    "        bnext.on_clicked(callback.next)\n",
    "        bprev = Button(axprev, 'Poprzedni')\n",
    "        bprev.on_clicked(callback.prev)\n",
    "        return [bprev, bnext]\n",
    "\n",
    "    def draw(self):\n",
    "        plt.close()\n",
    "        callback = _Button_callback(self.scenes)\n",
    "        self.widgets = self.__configure_buttons(callback)\n",
    "        callback.set_axis(plt.axes())\n",
    "        plt.show()\n",
    "        callback.draw()\n",
    "        \n",
    "    def toJSON(self):\n",
    "        return js.dumps([{\"points\": [pointCol.points.tolist() for pointCol in scene.points], \n",
    "                          \"lines\":[linesCol.lines for linesCol in scene.lines]} \n",
    "                         for scene in self.scenes])\n",
    "    "
   ]
  },
  {
   "cell_type": "markdown",
   "metadata": {},
   "source": [
    "### Przykład użycia"
   ]
  },
  {
   "cell_type": "code",
   "execution_count": 20,
   "metadata": {
    "pycharm": {
     "is_executing": false
    }
   },
   "outputs": [
    {
     "data": {
      "text/plain": "<Figure size 432x288 with 1 Axes>",
      "image/png": "[encoded data removed]"
     },
     "metadata": {
      "needs_background": "light"
     },
     "output_type": "display_data"
    }
   ],
   "source": [
    "%matplotlib notebook\n",
    "\n",
    "scenes=[Scene([PointsCollection([(1, 2), (3, 1.5), (2, -1)]), \n",
    "               PointsCollection([(5, -2), (2, 2), (-2, -1)], 'green', marker = \"^\")], \n",
    "              [LinesCollection([[(1,2),(2,3)], [(0,1),(1,0)]], 'orange')]), \n",
    "        Scene([PointsCollection([(1, 2), (-15, 1.5), (2, -1)], 'red'), \n",
    "               PointsCollection([(5, -2), (2, 2), (-2, 1)], 'black')], \n",
    "              [LinesCollection([[(-1,2),(-2,3)], [(0,-1),(-1,0)]])])]\n",
    "\n",
    "plot = Plot(scenes)\n",
    "plot.draw() \n"
   ]
  },
  {
   "cell_type": "markdown",
   "metadata": {},
   "source": [
    "### Rozwiązanie"
   ]
  },
  {
   "cell_type": "code",
   "execution_count": 21,
   "outputs": [],
   "source": [
    "def generate_random(amount=100, minimum=-100, maximum=100):\n",
    "    points = []\n",
    "    for i in range(0, amount):\n",
    "        points.append((random.uniform(minimum, maximum), random.uniform(minimum, maximum)))\n",
    "    return points\n",
    "\n",
    "def generate_on_circle(amount=100, center=(0, 0), radius=10):\n",
    "    points = []\n",
    "    for i in range(0, amount):\n",
    "        theta = random.random() * 2 * np.pi\n",
    "        points.append((center[0] + np.cos(theta) * radius, center[1] + np.sin(theta) * radius))\n",
    "    return points\n",
    "\n",
    "def generate_on_rectangle(amount=100, lower_left=(-10, -10), upper_right=(10,10)):\n",
    "    points = []\n",
    "    a = (upper_right[0]-lower_left[0])\n",
    "    b = (upper_right[1]-lower_left[1])\n",
    "    length = 2*(a)+2*(b)\n",
    "    for i in range(0, amount):\n",
    "        p = random.uniform(0, length)\n",
    "        if p<a:\n",
    "            x = lower_left[0]\n",
    "            y = lower_left[1] + p\n",
    "        elif p<a+b:\n",
    "            x = lower_left[0] + p - a\n",
    "            y = upper_right[1]\n",
    "        elif p<2*a+b:\n",
    "            x = upper_right[0]\n",
    "            y = upper_right[1]-p+a+b\n",
    "        else:\n",
    "            x = upper_right[0]-p+2*a+b\n",
    "            y = lower_left[1]\n",
    "           \n",
    "        points.append((x, y))\n",
    "    return points\n",
    "\n",
    "def generate_on_square(amount_on_sides=25, amount_on_diagonal=20, lower_left=(0,0), upper_right=(10,10)):\n",
    "    points  = []\n",
    "    l = upper_right[0]-lower_left[0]\n",
    "    for i in range(0, amount_on_sides):\n",
    "        p = random.uniform(0, l)\n",
    "        x = lower_left[0]\n",
    "        y = lower_left[1]+p\n",
    "        points.append((x, y))\n",
    "    for i in range(0, amount_on_sides):\n",
    "        p = random.uniform(0, l)\n",
    "        x = lower_left[0]+p\n",
    "        y = lower_left[1]\n",
    "        points.append((x, y))\n",
    "    for i in range(0, amount_on_diagonal):\n",
    "        p = random.uniform(lower_left[0], upper_right[0])\n",
    "        points.append((p, p))\n",
    "    for i in range(0, amount_on_diagonal):\n",
    "        p = random.uniform(lower_left[0], upper_right[0])\n",
    "        x = lower_left[0]\n",
    "        points.append((upper_right[0]-lower_left[0]-p, p))\n",
    "    return points\n",
    "        "
   ],
   "metadata": {
    "collapsed": false,
    "pycharm": {
     "name": "#%%\n",
     "is_executing": false
    }
   }
  },
  {
   "cell_type": "markdown",
   "source": [
    "# zad 1, 2, 3\n",
    "\n",
    "## dataset 1"
   ],
   "metadata": {
    "collapsed": false
   }
  },
  {
   "cell_type": "code",
   "execution_count": 22,
   "metadata": {
    "pycharm": {
     "is_executing": false
    }
   },
   "outputs": [
    {
     "data": {
      "text/plain": "<Figure size 432x288 with 1 Axes>",
      "image/png": "[encoded data removed]"
     },
     "metadata": {
      "needs_background": "light"
     },
     "output_type": "display_data"
    }
   ],
   "source": [
    "%matplotlib notebook\n",
    "plot = Plot([Scene([PointsCollection(generate_random())])])\n",
    "plot.draw()"
   ]
  },
  {
   "cell_type": "markdown",
   "source": [
    "## dataset 2"
   ],
   "metadata": {
    "collapsed": false
   }
  },
  {
   "cell_type": "code",
   "execution_count": 23,
   "outputs": [
    {
     "data": {
      "text/plain": "<Figure size 432x288 with 1 Axes>",
      "image/png": "[encoded data removed]"
     },
     "metadata": {
      "needs_background": "light"
     },
     "output_type": "display_data"
    }
   ],
   "source": [
    "%matplotlib notebook\n",
    "plot = Plot([Scene([PointsCollection(generate_on_circle())])])\n",
    "plot.draw()"
   ],
   "metadata": {
    "collapsed": false,
    "pycharm": {
     "name": "#%%\n",
     "is_executing": false
    }
   }
  },
  {
   "cell_type": "markdown",
   "source": [
    "## dataset 3"
   ],
   "metadata": {
    "collapsed": false
   }
  },
  {
   "cell_type": "code",
   "execution_count": 24,
   "outputs": [
    {
     "data": {
      "text/plain": "<Figure size 432x288 with 1 Axes>",
      "image/png": "[encoded data removed]"
     },
     "metadata": {
      "needs_background": "light"
     },
     "output_type": "display_data"
    }
   ],
   "source": [
    "%matplotlib notebook\n",
    "plot = Plot([Scene([PointsCollection(generate_on_rectangle())])])\n",
    "plot.draw()"
   ],
   "metadata": {
    "collapsed": false,
    "pycharm": {
     "name": "#%%\n",
     "is_executing": false
    }
   }
  },
  {
   "cell_type": "markdown",
   "source": [
    "## dataset 4"
   ],
   "metadata": {
    "collapsed": false
   }
  },
  {
   "cell_type": "code",
   "execution_count": 25,
   "outputs": [
    {
     "data": {
      "text/plain": "<Figure size 432x288 with 1 Axes>",
      "image/png": "[encoded data removed]"
     },
     "metadata": {
      "needs_background": "light"
     },
     "output_type": "display_data"
    }
   ],
   "source": [
    "%matplotlib notebook\n",
    "plot = Plot([Scene([PointsCollection(generate_on_square())])])\n",
    "plot.draw()"
   ],
   "metadata": {
    "collapsed": false,
    "pycharm": {
     "name": "#%%\n",
     "is_executing": false
    }
   }
  },
  {
   "cell_type": "markdown",
   "source": [
    "#zad 4"
   ],
   "metadata": {
    "collapsed": false,
    "pycharm": {
     "name": "#%% md\n"
    }
   }
  },
  {
   "cell_type": "code",
   "execution_count": null,
   "outputs": [],
   "source": [
    "def dot_product(v1, v2):\n",
    "    return v1[0] * v2[0] + v1[1] * v2[1]\n",
    "\n",
    "def length(v):\n",
    "    return np.sqrt(dot_product(v, v))\n",
    "\n",
    "def get_vector(a, b):\n",
    "    return b[0] - a[0], b[1] - a[1]\n",
    "\n",
    "def det_3x3(a, b, c, epsilon=0):\n",
    "    ca = (c[0] - a[0], c[1] - a[1])\n",
    "    cb = (c[0] - b[0], c[1] - b[1])\n",
    "    det = ca[0] * cb[1] - ca[1] * cb[0]\n",
    "    if det > epsilon:\n",
    "        return 1\n",
    "    if det < -epsilon:\n",
    "        return -1\n",
    "    else:\n",
    "        return det\n",
    "\n",
    "def filter_lowest_y_x(a, b):\n",
    "    if a[1] < b[1]:\n",
    "        return a\n",
    "    if a[1] > b[1]:\n",
    "        return b\n",
    "    if a[0] < b[0]:\n",
    "        return a\n",
    "    return b\n",
    "\n",
    "def find_min_angle(a, b, c, epsilon=1e-10):\n",
    "    det1 = det_3x3(a, b, c, epsilon)\n",
    "    det2 = det_3x3(a, c, b, epsilon)\n",
    "    if det1 == det2:\n",
    "        if length(get_vector(a, b)) > length(get_vector(a, c)):\n",
    "            return b\n",
    "        else:\n",
    "            return c\n",
    "    if det1 > 0:\n",
    "        return b\n",
    "    return c"
   ],
   "metadata": {
    "collapsed": false,
    "pycharm": {
     "name": "#%%\n"
    }
   }
  },
  {
   "cell_type": "markdown",
   "source": [
    "## Jarvis"
   ],
   "metadata": {
    "collapsed": false,
    "pycharm": {
     "name": "#%% md\n"
    }
   }
  },
  {
   "cell_type": "code",
   "execution_count": 26,
   "outputs": [
    {
     "name": "stderr",
     "text": [
      "/home/mirek/anaconda3/envs/algorytmyGeometryczne/lib/python3.7/site-packages/ipykernel_launcher.py:29: RuntimeWarning: divide by zero encountered in double_scalars\n/home/mirek/anaconda3/envs/algorytmyGeometryczne/lib/python3.7/site-packages/ipykernel_launcher.py:29: RuntimeWarning: invalid value encountered in double_scalars\n"
     ],
     "output_type": "stream"
    },
    {
     "traceback": [
      "\u001b[0;31m---------------------------------------------------------------------------\u001b[0m",
      "\u001b[0;31mIndexError\u001b[0m                                Traceback (most recent call last)",
      "\u001b[0;32m<ipython-input-26-937b4c16323b>\u001b[0m in \u001b[0;36m<module>\u001b[0;34m\u001b[0m\n\u001b[1;32m     51\u001b[0m     \u001b[0;32mreturn\u001b[0m \u001b[0mstack\u001b[0m\u001b[0;34m\u001b[0m\u001b[0;34m\u001b[0m\u001b[0m\n\u001b[1;32m     52\u001b[0m \u001b[0;34m\u001b[0m\u001b[0m\n\u001b[0;32m---> 53\u001b[0;31m \u001b[0mplot\u001b[0m \u001b[0;34m=\u001b[0m \u001b[0mPlot\u001b[0m\u001b[0;34m(\u001b[0m\u001b[0;34m[\u001b[0m\u001b[0mPointsCollection\u001b[0m\u001b[0;34m(\u001b[0m\u001b[0mgraham\u001b[0m\u001b[0;34m(\u001b[0m\u001b[0mgenerate_on_square\u001b[0m\u001b[0;34m(\u001b[0m\u001b[0;34m)\u001b[0m\u001b[0;34m)\u001b[0m\u001b[0;34m)\u001b[0m\u001b[0;34m]\u001b[0m\u001b[0;34m)\u001b[0m\u001b[0;34m\u001b[0m\u001b[0;34m\u001b[0m\u001b[0m\n\u001b[0m\u001b[1;32m     54\u001b[0m \u001b[0mplot\u001b[0m\u001b[0;34m.\u001b[0m\u001b[0mdraw\u001b[0m\u001b[0;34m(\u001b[0m\u001b[0;34m)\u001b[0m\u001b[0;34m\u001b[0m\u001b[0;34m\u001b[0m\u001b[0m\n",
      "\u001b[0;32m<ipython-input-26-937b4c16323b>\u001b[0m in \u001b[0;36mgraham\u001b[0;34m(dataset)\u001b[0m\n\u001b[1;32m     47\u001b[0m             \u001b[0mi\u001b[0m\u001b[0;34m+=\u001b[0m\u001b[0;36m1\u001b[0m\u001b[0;34m\u001b[0m\u001b[0;34m\u001b[0m\u001b[0m\n\u001b[1;32m     48\u001b[0m         \u001b[0;32melse\u001b[0m\u001b[0;34m:\u001b[0m\u001b[0;34m\u001b[0m\u001b[0;34m\u001b[0m\u001b[0m\n\u001b[0;32m---> 49\u001b[0;31m             \u001b[0mstack\u001b[0m\u001b[0;34m.\u001b[0m\u001b[0mpop\u001b[0m\u001b[0;34m(\u001b[0m\u001b[0;34m)\u001b[0m\u001b[0;34m\u001b[0m\u001b[0;34m\u001b[0m\u001b[0m\n\u001b[0m\u001b[1;32m     50\u001b[0m             \u001b[0mt\u001b[0m\u001b[0;34m-=\u001b[0m\u001b[0;36m1\u001b[0m\u001b[0;34m\u001b[0m\u001b[0;34m\u001b[0m\u001b[0m\n\u001b[1;32m     51\u001b[0m     \u001b[0;32mreturn\u001b[0m \u001b[0mstack\u001b[0m\u001b[0;34m\u001b[0m\u001b[0;34m\u001b[0m\u001b[0m\n",
      "\u001b[0;31mIndexError\u001b[0m: pop from empty list"
     ],
     "ename": "IndexError",
     "evalue": "pop from empty list",
     "output_type": "error"
    }
   ],
   "source": [
    "%matplotlib notebook\n",
    "\n",
    "def jarvis(dataset, write_to_file=False):\n",
    "    P = functools.reduce(lambda a, b: filter_lowest_y_x(a, b), dataset)\n",
    "    P0 = P\n",
    "    stack = [P]\n",
    "    scenes = [Scene([\n",
    "        PointsCollection(dataset),\n",
    "        PointsCollection(stack)\n",
    "    ])]\n",
    "    while True:\n",
    "        P1 = functools.reduce(lambda a, b: find_min_angle(P0, a, b), dataset)\n",
    "        scenes.append(\n",
    "            Scene([\n",
    "                PointsCollection(dataset),\n",
    "                PointsCollection(stack),\n",
    "                PointsCollection([P1])\n",
    "                ])\n",
    "        )\n",
    "        P0 = P1\n",
    "        stack.append(P1)\n",
    "        if P1 == P:\n",
    "            break\n",
    "    \n",
    "    scenes.append(\n",
    "        Scene([\n",
    "            PointsCollection(dataset),\n",
    "            PointsCollection(stack),\n",
    "            ])\n",
    "    )\n",
    "    if write_to_file:\n",
    "        with open('jarvis.json', 'w+') as f:\n",
    "            for p in stack:\n",
    "                f.write(p)\n",
    "    return stack, scenes"
   ],
   "metadata": {
    "collapsed": false,
    "pycharm": {
     "name": "#%%\n",
     "is_executing": false
    }
   }
  },
  {
   "cell_type": "markdown",
   "source": [
    "### dataset 1"
   ],
   "metadata": {
    "collapsed": false,
    "pycharm": {
     "name": "#%% md\n"
    }
   }
  },
  {
   "cell_type": "code",
   "execution_count": null,
   "outputs": [],
   "source": [
    "start = time.time()\n",
    "scenes = jarvis(generate_random(amount=1000))[1]\n",
    "end = time.time()\n",
    "print('execution time: ' + str((end-start)))\n",
    "plot = Plot(scenes)\n",
    "plot.draw()"
   ],
   "metadata": {
    "collapsed": false,
    "pycharm": {
     "name": "#%%\n"
    }
   }
  },
  {
   "cell_type": "markdown",
   "source": [
    "### dataset 2"
   ],
   "metadata": {
    "collapsed": false
   }
  },
  {
   "cell_type": "code",
   "execution_count": null,
   "outputs": [],
   "source": [
    "start = time.time()\n",
    "scenes = jarvis(generate_on_circle(amount=1000))[1]\n",
    "end = time.time()\n",
    "print('execution time: ' + str((end-start)))\n",
    "plot = Plot(scenes)\n",
    "plot.draw()"
   ],
   "metadata": {
    "collapsed": false,
    "pycharm": {
     "name": "#%%\n"
    }
   }
  },
  {
   "cell_type": "markdown",
   "source": [
    "### dataset 3"
   ],
   "metadata": {
    "collapsed": false
   }
  },
  {
   "cell_type": "code",
   "execution_count": null,
   "outputs": [],
   "source": [
    "start = time.time()\n",
    "scenes = jarvis(generate_on_rectangle(amount=1000))[1]\n",
    "end = time.time()\n",
    "print('execution time: ' + str((end-start)))\n",
    "plot = Plot(scenes)\n",
    "plot.draw()"
   ],
   "metadata": {
    "collapsed": false,
    "pycharm": {
     "name": "#%%\n"
    }
   }
  },
  {
   "cell_type": "markdown",
   "source": [
    "### dataset 4"
   ],
   "metadata": {
    "collapsed": false
   }
  },
  {
   "cell_type": "code",
   "execution_count": null,
   "outputs": [],
   "source": [
    "start = time.time()\n",
    "scenes = jarvis(generate_on_square(amount_on_diagonal=1000, amount_on_sides=1000))[1]\n",
    "end = time.time()\n",
    "print('execution time: ' + str((end-start)))\n",
    "plot = Plot(scenes)\n",
    "plot.draw()"
   ],
   "metadata": {
    "collapsed": false,
    "pycharm": {
     "name": "#%%\n"
    }
   }
  },
  {
   "cell_type": "markdown",
   "source": [
    "## Graham"
   ],
   "metadata": {
    "collapsed": false
   }
  },
  {
   "cell_type": "code",
   "execution_count": null,
   "outputs": [],
   "source": [
    "def angle_comparator(a, b, c, epsilon=1e-10):\n",
    "    if a == b:\n",
    "        return -1\n",
    "    if a == c:\n",
    "        return 1\n",
    "    det1 = det_3x3(a, b, c, epsilon)\n",
    "    det2 = det_3x3(a, c, b, epsilon)\n",
    "    if det1 == det2:\n",
    "        if length(get_vector(a, b)) > length(get_vector(a, c)):\n",
    "            return -1\n",
    "        else:\n",
    "            return 1\n",
    "    if det1 > 0:\n",
    "        return -1\n",
    "    return 1\n",
    "\n",
    "\n",
    "def graham(dataset, write_to_file=False):\n",
    "    P = functools.reduce(lambda a, b: filter_lowest_y_x(a, b), dataset)\n",
    "    temp = sorted(dataset, key=functools.cmp_to_key(lambda a, b: angle_comparator(P, a, b)))\n",
    "    dataset_distinct = [temp[0], temp[1]]\n",
    "    for i in range(2, len(temp)):\n",
    "        det1 = det_3x3(P, temp[i-1], temp[i], 1e-10)\n",
    "        det2 = det_3x3(P, temp[i], temp[i-1], 1e-10)\n",
    "        if det1!=det2:\n",
    "            dataset_distinct.append(temp[i])\n",
    "\n",
    "    scenes = [Scene([\n",
    "        PointsCollection(dataset),\n",
    "        PointsCollection([P])\n",
    "    ])]\n",
    "\n",
    "    stack = []\n",
    "    stack.append(dataset_distinct[0])\n",
    "    stack.append(dataset_distinct[1])\n",
    "    stack.append(dataset_distinct[2])\n",
    "    i = 3\n",
    "    t = 2\n",
    "    while i < len(dataset_distinct):\n",
    "        scenes.append(Scene([\n",
    "            PointsCollection(dataset),\n",
    "            PointsCollection(stack),\n",
    "            PointsCollection([stack[t - 1], stack[t], dataset_distinct[i]], color='red', marker='*')\n",
    "            ]))\n",
    "        if det_3x3(stack[t - 1], stack[t], dataset_distinct[i], 1e-10) > 0:\n",
    "            stack.append(dataset_distinct[i])\n",
    "            t += 1\n",
    "            i += 1\n",
    "        else:\n",
    "            stack.pop()\n",
    "            t -= 1\n",
    "    scenes.append(Scene([\n",
    "        PointsCollection(dataset),\n",
    "        PointsCollection(stack)\n",
    "        ]))\n",
    "\n",
    "    if write_to_file:\n",
    "        with open('jarvis.json', 'w+') as f:\n",
    "            for p in stack:\n",
    "                f.write(p)\n",
    "    return stack, scenes"
   ],
   "metadata": {
    "collapsed": false,
    "pycharm": {
     "name": "#%%\n"
    }
   }
  },
  {
   "cell_type": "markdown",
   "source": [
    "### dataset 1"
   ],
   "metadata": {
    "collapsed": false
   }
  },
  {
   "cell_type": "code",
   "execution_count": null,
   "outputs": [],
   "source": [
    "start = time.time()\n",
    "scenes = graham(generate_random(amount=1000))[1]\n",
    "end = time.time()\n",
    "print('execution time: ' + str((end-start)))\n",
    "plot = Plot(scenes)\n",
    "plot.draw()"
   ],
   "metadata": {
    "collapsed": false,
    "pycharm": {
     "name": "#%%\n"
    }
   }
  },
  {
   "cell_type": "markdown",
   "source": [
    "### dataset 2"
   ],
   "metadata": {
    "collapsed": false
   }
  },
  {
   "cell_type": "code",
   "execution_count": null,
   "outputs": [],
   "source": [
    "start = time.time()\n",
    "scenes = graham(generate_on_circle(amount=1000))[1]\n",
    "end = time.time()\n",
    "print('execution time: ' + str((end-start)))\n",
    "plot = Plot(scenes)\n",
    "plot.draw()"
   ],
   "metadata": {
    "collapsed": false,
    "pycharm": {
     "name": "#%%\n"
    }
   }
  },
  {
   "cell_type": "markdown",
   "source": [
    "### dataset 3"
   ],
   "metadata": {
    "collapsed": false
   }
  },
  {
   "cell_type": "code",
   "execution_count": null,
   "outputs": [],
   "source": [
    "start = time.time()\n",
    "scenes = graham(generate_on_rectangle(amount=1000))[1]\n",
    "end = time.time()\n",
    "print('execution time: ' + str((end-start)))\n",
    "plot = Plot(scenes)\n",
    "plot.draw()"
   ],
   "metadata": {
    "collapsed": false,
    "pycharm": {
     "name": "#%%\n"
    }
   }
  },
  {
   "cell_type": "markdown",
   "source": [
    "### dataset 4"
   ],
   "metadata": {
    "collapsed": false
   }
  },
  {
   "cell_type": "code",
   "execution_count": null,
   "outputs": [],
   "source": [
    "start = time.time()\n",
    "scenes = graham(generate_on_square(amount_on_diagonal=1000, amount_on_sides=1000))[1]\n",
    "end = time.time()\n",
    "print('execution time: ' + str((end-start)))\n",
    "plot = Plot(scenes)\n",
    "plot.draw()"
   ],
   "metadata": {
    "collapsed": false,
    "pycharm": {
     "name": "#%%\n"
    }
   }
  }
 ],
 "metadata": {
  "kernelspec": {
   "display_name": "Python 3",
   "language": "python",
   "name": "python3"
  },
  "language_info": {
   "codemirror_mode": {
    "name": "ipython",
    "version": 3
   },
   "file_extension": ".py",
   "mimetype": "text/x-python",
   "name": "python",
   "nbconvert_exporter": "python",
   "pygments_lexer": "ipython3",
   "version": "3.7.3"
  },
  "pycharm": {
   "stem_cell": {
    "cell_type": "raw",
    "source": [],
    "metadata": {
     "collapsed": false
    }
   }
  }
 },
 "nbformat": 4,
 "nbformat_minor": 1
}