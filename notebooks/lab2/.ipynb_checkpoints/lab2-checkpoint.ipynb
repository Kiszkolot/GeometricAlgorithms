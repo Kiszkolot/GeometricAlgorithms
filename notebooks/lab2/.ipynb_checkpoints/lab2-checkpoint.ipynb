{
 "cells": [
  {
   "cell_type": "markdown",
   "metadata": {
    "collapsed": true
   },
   "source": [
    "# Laboratorium 2\n"
   ]
  },
  {
   "cell_type": "markdown",
   "metadata": {},
   "source": [
    "### Konfiguracja"
   ]
  },
  {
   "cell_type": "code",
   "execution_count": 5,
   "metadata": {
    "pycharm": {
     "is_executing": false
    }
   },
   "outputs": [
    {
     "ename": "ModuleNotFoundError",
     "evalue": "No module named 'matplotlib'",
     "output_type": "error",
     "traceback": [
      "\u001b[0;31m---------------------------------------------------------------------------\u001b[0m",
      "\u001b[0;31mModuleNotFoundError\u001b[0m                       Traceback (most recent call last)",
      "\u001b[0;32m<ipython-input-5-6a8f274b2c03>\u001b[0m in \u001b[0;36m<module>\u001b[0;34m()\u001b[0m\n\u001b[1;32m      3\u001b[0m \u001b[0;32mfrom\u001b[0m \u001b[0mcmath\u001b[0m \u001b[0;32mimport\u001b[0m \u001b[0macos\u001b[0m\u001b[0;34m\u001b[0m\u001b[0;34m\u001b[0m\u001b[0m\n\u001b[1;32m      4\u001b[0m \u001b[0;32mimport\u001b[0m \u001b[0mnumpy\u001b[0m \u001b[0;32mas\u001b[0m \u001b[0mnp\u001b[0m\u001b[0;34m\u001b[0m\u001b[0;34m\u001b[0m\u001b[0m\n\u001b[0;32m----> 5\u001b[0;31m \u001b[0;32mimport\u001b[0m \u001b[0mmatplotlib\u001b[0m\u001b[0;34m.\u001b[0m\u001b[0mpyplot\u001b[0m \u001b[0;32mas\u001b[0m \u001b[0mplt\u001b[0m\u001b[0;34m\u001b[0m\u001b[0;34m\u001b[0m\u001b[0m\n\u001b[0m\u001b[1;32m      6\u001b[0m \u001b[0;32mimport\u001b[0m \u001b[0mmatplotlib\u001b[0m\u001b[0;34m.\u001b[0m\u001b[0mcollections\u001b[0m \u001b[0;32mas\u001b[0m \u001b[0mmcoll\u001b[0m\u001b[0;34m\u001b[0m\u001b[0;34m\u001b[0m\u001b[0m\n\u001b[1;32m      7\u001b[0m \u001b[0;32mimport\u001b[0m \u001b[0mmatplotlib\u001b[0m\u001b[0;34m.\u001b[0m\u001b[0mcolors\u001b[0m \u001b[0;32mas\u001b[0m \u001b[0mmcolors\u001b[0m\u001b[0;34m\u001b[0m\u001b[0;34m\u001b[0m\u001b[0m\n",
      "\u001b[0;31mModuleNotFoundError\u001b[0m: No module named 'matplotlib'"
     ]
    }
   ],
   "source": [
    "import functools\n",
    "import random\n",
    "from cmath import acos\n",
    "import numpy as np\n",
    "import matplotlib.pyplot as plt\n",
    "import matplotlib.collections as mcoll\n",
    "import matplotlib.colors as mcolors\n",
    "from matplotlib.widgets import Button\n",
    "import json as js\n",
    "\n",
    "class _Button_callback(object):\n",
    "    def __init__(self, scenes):\n",
    "        self.i = 0\n",
    "        self.scenes = scenes\n",
    "\n",
    "    def set_axis(self, ax):\n",
    "        self.ax = ax\n",
    "        \n",
    "    def next(self, event):\n",
    "        self.i = (self.i + 1) % len(scenes)\n",
    "        self.draw()\n",
    "\n",
    "    def prev(self, event):\n",
    "        self.i = (self.i - 1) % len(scenes)\n",
    "        self.draw()\n",
    "        \n",
    "    def draw(self):\n",
    "        self.ax.clear()\n",
    "        for collection in scenes[self.i].points:\n",
    "            if len(collection.points) > 0:\n",
    "                self.ax.scatter(*zip(*(np.array(collection.points))), c=collection.color, marker=collection.marker)\n",
    "        for collection in scenes[self.i].lines:\n",
    "            self.ax.add_collection(collection.get_collection())\n",
    "        self.ax.autoscale()\n",
    "        plt.draw()"
   ]
  },
  {
   "cell_type": "markdown",
   "metadata": {},
   "source": [
    "### Interfejsy\n",
    "\n",
    "[Dostępne kolory](https://matplotlib.org/3.1.1/gallery/color/named_colors.html)\n",
    "\n",
    "[Dostępne znaczniki punktów](https://matplotlib.org/3.1.1/api/markers_api.html#module-matplotlib.markers)"
   ]
  },
  {
   "cell_type": "code",
   "execution_count": null,
   "metadata": {
    "pycharm": {
     "is_executing": false
    }
   },
   "outputs": [],
   "source": [
    "class Scene:\n",
    "    def __init__(self, points=[], lines=[]):\n",
    "        self.points=points\n",
    "        self.lines=lines\n",
    "\n",
    "class PointsCollection:\n",
    "    def __init__(self, points = [], color = None, marker = None):\n",
    "        self.points = np.array(points)\n",
    "        self.color = color\n",
    "        self.marker = marker\n",
    "\n",
    "class LinesCollection:\n",
    "    def __init__(self, lines = [], color = None):\n",
    "        self.color = color\n",
    "        self.lines = lines\n",
    "        \n",
    "    def add(self, line):\n",
    "        self.lines.append(line)\n",
    "        \n",
    "    def get_collection(self):\n",
    "        if self.color:\n",
    "            return mcoll.LineCollection(self.lines, colors=mcolors.to_rgba(self.color))\n",
    "        else:\n",
    "            return mcoll.LineCollection(self.lines)\n",
    "            \n",
    "\n",
    "\n",
    "class Plot:\n",
    "    def __init__(self, scenes = [], json = None):\n",
    "        if json is None:\n",
    "            self.scenes = scenes\n",
    "        else:\n",
    "            self.scenes = [Scene([PointsCollection(pointsCol) for pointsCol in scene[\"points\"]], \n",
    "                                 [LinesCollection(linesCol) for linesCol in scene[\"lines\"]]) \n",
    "                           for scene in js.loads(json)]\n",
    "        \n",
    "    def __configure_buttons(self, callback):\n",
    "        plt.subplots_adjust(bottom=0.2)\n",
    "        axprev = plt.axes([0.6, 0.05, 0.15, 0.075])\n",
    "        axnext = plt.axes([0.76, 0.05, 0.15, 0.075])\n",
    "        bnext = Button(axnext, 'Następny')\n",
    "        bnext.on_clicked(callback.next)\n",
    "        bprev = Button(axprev, 'Poprzedni')\n",
    "        bprev.on_clicked(callback.prev)\n",
    "        return [bprev, bnext]\n",
    "\n",
    "    def draw(self):\n",
    "        plt.close()\n",
    "        callback = _Button_callback(self.scenes)\n",
    "        self.widgets = self.__configure_buttons(callback)\n",
    "        callback.set_axis(plt.axes())\n",
    "        plt.show()\n",
    "        callback.draw()\n",
    "        \n",
    "    def toJSON(self):\n",
    "        return js.dumps([{\"points\": [pointCol.points.tolist() for pointCol in scene.points], \n",
    "                          \"lines\":[linesCol.lines for linesCol in scene.lines]} \n",
    "                         for scene in self.scenes])\n",
    "    "
   ]
  },
  {
   "cell_type": "markdown",
   "metadata": {},
   "source": [
    "### Przykład użycia"
   ]
  },
  {
   "cell_type": "code",
   "execution_count": null,
   "metadata": {
    "pycharm": {
     "is_executing": false
    }
   },
   "outputs": [],
   "source": [
    "%matplotlib inline\n",
    "\n",
    "scenes=[Scene([PointsCollection([(1, 2), (3, 1.5), (2, -1)]), \n",
    "               PointsCollection([(5, -2), (2, 2), (-2, -1)], 'green', marker = \"^\")], \n",
    "              [LinesCollection([[(1,2),(2,3)], [(0,1),(1,0)]], 'orange')]), \n",
    "        Scene([PointsCollection([(1, 2), (-15, 1.5), (2, -1)], 'red'), \n",
    "               PointsCollection([(5, -2), (2, 2), (-2, 1)], 'black')], \n",
    "              [LinesCollection([[(-1,2),(-2,3)], [(0,-1),(-1,0)]])])]\n",
    "\n",
    "plot = Plot(scenes)\n",
    "plot.draw() \n"
   ]
  },
  {
   "cell_type": "markdown",
   "metadata": {},
   "source": [
    "### Rozwiązanie"
   ]
  },
  {
   "cell_type": "code",
   "execution_count": null,
   "metadata": {
    "pycharm": {
     "is_executing": false,
     "name": "#%%\n"
    }
   },
   "outputs": [],
   "source": [
    "def zad_1_a():\n",
    "    points = []\n",
    "    for i in range(0, 100):\n",
    "        points.append((random.uniform(-100, 100), random.uniform(-100, 100)))\n",
    "    return points\n",
    "\n",
    "def zad_1_c():\n",
    "    points = []\n",
    "    for i in range(0, 100):\n",
    "        theta = random.random() * 2 * np.pi\n",
    "        points.append((np.cos(theta) * 10, np.sin(theta) * 10))\n",
    "    return points\n",
    "\n",
    "def generate_on_rectangle():\n",
    "    points = []\n",
    "    lower_left = (-10, -10)\n",
    "    upper_right = (10, 10)\n",
    "    a = (upper_right[0]-lower_left[0])\n",
    "    b = (upper_right[1]-lower_left[1])\n",
    "    length = 2*(a)+2*(b)\n",
    "    for i in range(0, 100):\n",
    "        p = random.uniform(0, length)\n",
    "        if p<a:\n",
    "            x = lower_left[0]\n",
    "            y = lower_left[1] + p\n",
    "        elif p<a+b:\n",
    "            x = lower_left[0] + p - a\n",
    "            y = upper_right[1]\n",
    "        elif p<2*a+b:\n",
    "            x = upper_right[0]\n",
    "            y = upper_right[1]-p+a+b\n",
    "        else:\n",
    "            x = upper_right[0]-p+2*a+b\n",
    "            y = lower_left[1]\n",
    "           \n",
    "        points.append((x, y))\n",
    "    return points\n",
    "\n",
    "def generate_on_square():\n",
    "    points  = []\n",
    "    lower_left = (0, 0)\n",
    "    upper_right = (10, 10)\n",
    "    l = upper_right[0]-lower_left[0]\n",
    "    for i in range(0, 25):\n",
    "        p = random.uniform(0, l)\n",
    "        x = lower_left[0]\n",
    "        y = lower_left[1]+p\n",
    "        points.append((x, y))\n",
    "    for i in range(0, 25):\n",
    "        p = random.uniform(0, l)\n",
    "        x = lower_left[0]+p\n",
    "        y = lower_left[1]\n",
    "        points.append((x, y))\n",
    "    for i in range(0, 25):\n",
    "        p = random.uniform(0, l)\n",
    "        x = lower_left[0]\n",
    "        points.append((x, x))\n",
    "    for i in range(0, 25):\n",
    "        p = random.uniform(0, l)\n",
    "        x = lower_left[0]\n",
    "        points.append((upper_right[0]-x, x))\n",
    "        \n",
    "    \n",
    "# plot = Plot\n",
    "\n",
    "\n"
   ]
  },
  {
   "cell_type": "code",
   "execution_count": null,
   "metadata": {
    "pycharm": {
     "is_executing": false
    }
   },
   "outputs": [],
   "source": [
    "%matplotlib inline"
   ]
  }
 ],
 "metadata": {
  "kernelspec": {
   "display_name": "Python 3",
   "language": "python",
   "name": "python3"
  },
  "language_info": {
   "codemirror_mode": {
    "name": "ipython",
    "version": 3
   },
   "file_extension": ".py",
   "mimetype": "text/x-python",
   "name": "python",
   "nbconvert_exporter": "python",
   "pygments_lexer": "ipython3",
   "version": "3.6.8"
  },
  "pycharm": {
   "stem_cell": {
    "cell_type": "raw",
    "metadata": {
     "collapsed": false
    },
    "source": []
   }
  }
 },
 "nbformat": 4,
 "nbformat_minor": 1
}
